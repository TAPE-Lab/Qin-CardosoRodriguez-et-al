{
 "cells": [
  {
   "attachments": {},
   "cell_type": "markdown",
   "metadata": {},
   "source": [
    "# Data Integration\n",
    "\n",
    "The integration script is for reference only and the integrated dataset can be found at: (publicly avaiable data repository)."
   ]
  },
  {
   "cell_type": "code",
   "execution_count": 1,
   "metadata": {},
   "outputs": [],
   "source": [
    "# import os, re, sys\n",
    "# import fcsparser\n",
    "# import pandas as pd\n",
    "\n",
    "# sys.path.insert(0, \"../..\")\n",
    "# from scripts.aux_functions import *\n"
   ]
  },
  {
   "cell_type": "code",
   "execution_count": 1,
   "metadata": {},
   "outputs": [],
   "source": [
    "# Import raw data\n",
    "# base_dir = \"/Users/xiaoqin/Dropbox/TAPE LAB/Manuscripts/Qin & Cardoso Rodriguez et al/SupplementaryMaterials/Qin-CardosoRodriguez-et-al_analysis/Figure5-S5/CellChat Follow-up\"\n",
    "# os.makedirs(f\"{base_dir}/output\", exist_ok=True)\n",
    "# input_dir = f\"{base_dir}/preprocessed_data\"\n",
    "# output_dir = f\"{base_dir}/output\"\n",
    "\n",
    "# filelist = [f for f in os.listdir(input_dir) if f.endswith(\".txt\")]\n",
    "# filelist\n"
   ]
  },
  {
   "cell_type": "code",
   "execution_count": 3,
   "metadata": {},
   "outputs": [],
   "source": [
    "# ---\n",
    "# Integration\n",
    "# ---\n",
    "\n",
    "# Naming convention:\n",
    "# batch_experiment_genotype_barcode_condition_replicate\n",
    "# e.g. \"B1_CellChat_WT_001_Ctrl_1.txt\"\n",
    "\n",
    "# integrated = pd.DataFrame()\n",
    "# for f in filelist:\n",
    "#     df_new = pd.read_csv(f\"{input_dir}/{f}\", sep=\"\\t\")\n",
    "#     df_new = df_new.rename(\n",
    "#         columns=lambda x: re.sub(\"_v[0-9]+$\", \"\", x)\n",
    "#     )  # Revome the version number etc.\n",
    "\n",
    "#     batch = f.split(\"_\")[0]\n",
    "#     genotype = f.split(\"_\")[2]\n",
    "#     barcode = f.split(\"_\")[3]\n",
    "#     media = f.split(\"_\")[4]\n",
    "#     replicate = f.split(\"_\")[-1].split(\".\")[0]\n",
    "\n",
    "#     df_new[\"batch\"] = batch\n",
    "#     df_new[\"barcode\"] = barcode\n",
    "#     df_new[\"genotype\"] = genotype\n",
    "#     df_new[\"media\"] = media\n",
    "#     df_new[\"replicate\"] = replicate\n",
    "#     df_new[\"culture\"] = genotype + \"_\" + media\n",
    "#     df_new[\"condition\"] = batch + \"_\" + genotype + \"_\" + media + \"_\" + replicate\n",
    "\n",
    "#     # break down genotype\n",
    "#     df_new[\"A\"] = 1 if \"A\" in genotype else 0\n",
    "#     df_new[\"K\"] = 1 if \"K\" in genotype else 0\n",
    "#     df_new[\"P\"] = 1 if \"P\" in genotype else 0\n",
    "\n",
    "#     integrated = pd.concat([integrated, df_new])\n",
    "# integrated.head()\n",
    "# integrated.shape\n",
    "\n",
    "# integrated.columns.values\n",
    "# integrated.to_csv(f\"{output_dir}/integrated_dataframe_all-cells.csv\", index=False)\n"
   ]
  },
  {
   "attachments": {},
   "cell_type": "markdown",
   "metadata": {},
   "source": [
    "# EMD Calculation"
   ]
  },
  {
   "cell_type": "code",
   "execution_count": 2,
   "metadata": {},
   "outputs": [],
   "source": [
    "import os, sys\n",
    "import pandas as pd\n",
    "import scprep\n",
    "from scipy.stats import zscore\n",
    "\n",
    "sys.path.insert(0, \"../..\")\n",
    "from scripts.aux_functions import *\n",
    "from scripts.__init__ import non_marker\n"
   ]
  },
  {
   "cell_type": "code",
   "execution_count": 3,
   "metadata": {},
   "outputs": [],
   "source": [
    "# Import data\n",
    "base_dir = \"/Users/xiaoqin/Dropbox/TAPE LAB/Manuscripts/Qin & Cardoso Rodriguez et al/SupplementaryMaterials/Qin-CardosoRodriguez-et-al_analysis/Figure5-S5/CellChat Follow-up\"\n",
    "input_dir = f\"{base_dir}/output\"\n",
    "os.makedirs(f\"{base_dir}/output/emd\", exist_ok=True)\n",
    "output_dir = f\"{base_dir}/output/emd\"\n"
   ]
  },
  {
   "cell_type": "code",
   "execution_count": 4,
   "metadata": {},
   "outputs": [],
   "source": [
    "# Generate full_panel and metadata_columns on the fly\n",
    "df = pd.read_csv(f\"{input_dir}/integrated_dataframe_all-cells.csv\")\n",
    "df_columns = df.columns.values.tolist()\n",
    "column_filtered = list(\n",
    "    filter(lambda x: x not in non_marker, df_columns)\n",
    ")  # Exclude non-markers\n",
    "\n",
    "full_panel = [i for i in column_filtered if i[0].isdigit()]\n",
    "metadata_columns = list(filter(lambda x: x not in full_panel, column_filtered))\n"
   ]
  },
  {
   "cell_type": "code",
   "execution_count": 5,
   "metadata": {},
   "outputs": [],
   "source": [
    "# EMD calculation - WT & A, Batch 2\n",
    "subsets = [\"WT\", \"A\"]\n",
    "batch = \"B2\"\n",
    "\n",
    "for subset in subsets:\n",
    "\n",
    "    subset_df = df.loc[(df[\"batch\"] == batch) & (df[\"genotype\"] == subset)]\n",
    "    subset_df = arcsinh_transf(subset_df, full_panel, 5)  # Arcsinh transformation\n",
    "    emd_ref = subset_df.loc[\n",
    "        subset_df[\"culture\"] == f\"{subset}_Ctrl\"\n",
    "    ]  # for each genotype\n",
    "\n",
    "    # EMD calculation\n",
    "    emd_df = pd.DataFrame()\n",
    "    emd_df_master = pd.DataFrame()\n",
    "    emd_infodict = {}\n",
    "\n",
    "    # Get all experimental conditions for which EMD is going to be calculated\n",
    "    conditions = subset_df[\"condition\"].unique().tolist()\n",
    "    len(conditions)\n",
    "\n",
    "    # Compute EMD and compile the result in a master dataframe\n",
    "    for condition in conditions:\n",
    "        compare_from = subset_df.loc[subset_df[\"condition\"] == condition]\n",
    "\n",
    "        df_new = calculate_emd(\n",
    "            full_panel,  # all non-marker and non-metadata columns\n",
    "            compare_from,\n",
    "            emd_ref,\n",
    "            metadata_columns,\n",
    "            emd_df,\n",
    "            emd_infodict,\n",
    "        )\n",
    "        emd_df_master = pd.concat([emd_df_master, df_new])\n",
    "\n",
    "    # Long to wide transformation\n",
    "    emd_df_master_wide = emd_df_master.pivot_table(\n",
    "        index=metadata_columns,\n",
    "        columns=\"marker\",\n",
    "        values=\"EMD_arc\",\n",
    "    ).reset_index()\n",
    "\n",
    "    emd_df_master_wide.head()\n",
    "    emd_df_master_wide.to_csv(\n",
    "        f\"{output_dir}/emd_df_master_{subset}_{batch}_no-norm.csv\",\n",
    "        index=False,\n",
    "    )\n"
   ]
  },
  {
   "cell_type": "code",
   "execution_count": 6,
   "metadata": {},
   "outputs": [],
   "source": [
    "# EMD calculation - WT & A, Batch 5\n",
    "subsets = [\"WT\", \"A\"]\n",
    "batch = \"B5\"\n",
    "\n",
    "for subset in subsets:\n",
    "\n",
    "    subset_df = df.loc[(df[\"batch\"] == batch) & (df[\"genotype\"] == subset)]\n",
    "    subset_df = arcsinh_transf(subset_df, full_panel, 5)  # Arcsinh transformation\n",
    "    emd_ref = subset_df.loc[\n",
    "        subset_df[\"culture\"] == f\"{subset}_Ctrl\"\n",
    "    ]  # for each genotype\n",
    "\n",
    "    # EMD calculation\n",
    "    emd_df = pd.DataFrame()\n",
    "    emd_df_master = pd.DataFrame()\n",
    "    emd_infodict = {}\n",
    "\n",
    "    # Get all experimental conditions for which EMD is going to be calculated\n",
    "    conditions = subset_df[\"condition\"].unique().tolist()\n",
    "    len(conditions)\n",
    "\n",
    "    # Compute EMD and compile the result in a master dataframe\n",
    "    for condition in conditions:\n",
    "        compare_from = subset_df.loc[subset_df[\"condition\"] == condition]\n",
    "\n",
    "        df_new = calculate_emd(\n",
    "            full_panel,  # all non-marker and non-metadata columns\n",
    "            compare_from,\n",
    "            emd_ref,\n",
    "            metadata_columns,\n",
    "            emd_df,\n",
    "            emd_infodict,\n",
    "        )\n",
    "        emd_df_master = pd.concat([emd_df_master, df_new])\n",
    "\n",
    "    # Long to wide transformation\n",
    "    emd_df_master_wide = emd_df_master.pivot_table(\n",
    "        index=metadata_columns,\n",
    "        columns=\"marker\",\n",
    "        values=\"EMD_arc\",\n",
    "    ).reset_index()\n",
    "\n",
    "    emd_df_master_wide.head()\n",
    "    emd_df_master_wide.to_csv(\n",
    "        f\"{output_dir}/emd_df_master_{subset}_{batch}_no-norm.csv\",\n",
    "        index=False,\n",
    "    )\n"
   ]
  },
  {
   "cell_type": "code",
   "execution_count": 7,
   "metadata": {},
   "outputs": [],
   "source": [
    "# K, AK, KP, and AKP\n",
    "\n",
    "subsets = [\"K\", \"AK\", \"KP\", \"AKP\"]\n",
    "\n",
    "for subset in subsets:\n",
    "\n",
    "    if subset != \"all-cells\":\n",
    "        subset_df = df.loc[df[\"genotype\"] == subset]\n",
    "        subset_df = arcsinh_transf(subset_df, full_panel, 5)  # Arcsinh transformation\n",
    "        emd_ref = subset_df.loc[\n",
    "            subset_df[\"culture\"] == f\"{subset}_Ctrl\"\n",
    "        ]  # for each genotype\n",
    "    else:\n",
    "        subset_df = arcsinh_transf(df, full_panel, 5)\n",
    "        emd_ref = subset_df.loc[subset_df[\"culture\"] == \"WT_Ctrl\"]\n",
    "\n",
    "    # EMD calculation\n",
    "    emd_df = pd.DataFrame()\n",
    "    emd_df_master = pd.DataFrame()\n",
    "    emd_infodict = {}\n",
    "\n",
    "    # Get all experimental conditions for which EMD is going to be calculated\n",
    "    conditions = subset_df[\"condition\"].unique().tolist()\n",
    "    len(conditions)\n",
    "\n",
    "    # Compute EMD and compile the result in a master dataframe\n",
    "    for condition in conditions:\n",
    "        compare_from = subset_df.loc[subset_df[\"condition\"] == condition]\n",
    "\n",
    "        df_new = calculate_emd(\n",
    "            full_panel,  # all non-marker and non-metadata columns\n",
    "            compare_from,\n",
    "            emd_ref,\n",
    "            metadata_columns,\n",
    "            emd_df,\n",
    "            emd_infodict,\n",
    "        )\n",
    "        emd_df_master = pd.concat([emd_df_master, df_new])\n",
    "\n",
    "    # Long to wide transformation\n",
    "    emd_df_master_wide = emd_df_master.pivot_table(\n",
    "        index=metadata_columns,\n",
    "        columns=\"marker\",\n",
    "        values=\"EMD_arc\",\n",
    "    ).reset_index()\n",
    "\n",
    "    emd_df_master_wide.head()\n",
    "    emd_df_master_wide.to_csv(\n",
    "        f\"{output_dir}/emd_df_master_{subset}_no-norm.csv\",\n",
    "        index=False,\n",
    "    )\n"
   ]
  },
  {
   "cell_type": "code",
   "execution_count": 9,
   "metadata": {},
   "outputs": [],
   "source": [
    "# Concatenate the EMD scores per genotype\n",
    "subsets = [\"WT\", \"A\", \"K\", \"AK\", \"KP\", \"AKP\"]\n",
    "\n",
    "# No normalisation\n",
    "emd_concat_nonorm = pd.DataFrame()\n",
    "nonorm_dataset = [\n",
    "    f\n",
    "    for f in os.listdir(output_dir)\n",
    "    if f.startswith(\"emd_df_master\")\n",
    "    # and f.endswith(\"no-norm.csv\")\n",
    "    and \"no-norm\" in f and f.split(\"_\")[3] in subsets\n",
    "]\n",
    "nonorm_dataset\n",
    "for f in nonorm_dataset:\n",
    "    df = pd.read_csv(f\"{output_dir}/{f}\")\n",
    "    emd_concat_nonorm = pd.concat([emd_concat_nonorm, df])\n",
    "emd_concat_nonorm.head()\n",
    "emd_concat_nonorm.shape\n",
    "emd_concat_nonorm.to_csv(f\"{output_dir}/emd_df_master_concat_no-norm.csv\", index=False)\n"
   ]
  },
  {
   "cell_type": "markdown",
   "metadata": {},
   "source": [
    "# EMD-PCA"
   ]
  },
  {
   "cell_type": "code",
   "execution_count": 10,
   "metadata": {},
   "outputs": [
    {
     "data": {
      "application/javascript": "\n            setTimeout(function() {\n                var nbb_cell_id = 10;\n                var nbb_unformatted_code = \"import os, sys\\nimport pandas as pd\\nimport numpy as np\\nimport phate\\nimport seaborn as sns\\nimport matplotlib.pyplot as plt\\nfrom sklearn.decomposition import PCA\\n%matplotlib inline\\nimport warnings\\nwarnings.filterwarnings('ignore')\\n\\nsys.path.insert(0, '../..') # Add the script folder to the path\\nfrom scripts.aux_functions import *\\nfrom scripts import colours\\n\\nfrom IPython.core.interactiveshell import InteractiveShell\\n%load_ext nb_black\";\n                var nbb_formatted_code = \"import os, sys\\nimport pandas as pd\\nimport numpy as np\\nimport phate\\nimport seaborn as sns\\nimport matplotlib.pyplot as plt\\nfrom sklearn.decomposition import PCA\\n\\n%matplotlib inline\\nimport warnings\\n\\nwarnings.filterwarnings(\\\"ignore\\\")\\n\\nsys.path.insert(0, \\\"../..\\\")  # Add the script folder to the path\\nfrom scripts.aux_functions import *\\nfrom scripts import colours\\n\\nfrom IPython.core.interactiveshell import InteractiveShell\\n\\n%load_ext nb_black\";\n                var nbb_cells = Jupyter.notebook.get_cells();\n                for (var i = 0; i < nbb_cells.length; ++i) {\n                    if (nbb_cells[i].input_prompt_number == nbb_cell_id) {\n                        if (nbb_cells[i].get_text() == nbb_unformatted_code) {\n                             nbb_cells[i].set_text(nbb_formatted_code);\n                        }\n                        break;\n                    }\n                }\n            }, 500);\n            ",
      "text/plain": [
       "<IPython.core.display.Javascript object>"
      ]
     },
     "metadata": {},
     "output_type": "display_data"
    }
   ],
   "source": [
    "import os, sys\n",
    "import pandas as pd\n",
    "import numpy as np\n",
    "import phate\n",
    "import seaborn as sns\n",
    "import matplotlib.pyplot as plt\n",
    "from sklearn.decomposition import PCA\n",
    "%matplotlib inline\n",
    "import warnings\n",
    "warnings.filterwarnings('ignore')\n",
    "\n",
    "sys.path.insert(0, '../..') # Add the script folder to the path\n",
    "from scripts.aux_functions import *\n",
    "from scripts import colours\n",
    "\n",
    "from IPython.core.interactiveshell import InteractiveShell\n",
    "%load_ext nb_black"
   ]
  },
  {
   "cell_type": "code",
   "execution_count": 11,
   "metadata": {},
   "outputs": [
    {
     "data": {
      "application/javascript": "\n            setTimeout(function() {\n                var nbb_cell_id = 11;\n                var nbb_unformatted_code = \"# Import data\\nbase_dir = \\\"/Users/xiaoqin/Dropbox/TAPE LAB/Manuscripts/Qin & Cardoso Rodriguez et al/SupplementaryMaterials/Qin-CardosoRodriguez-et-al_analysis/Figure5-S5/CellChat Follow-up\\\"\\ninput_dir = f\\\"{base_dir}/output/emd\\\"\\noutput_dir = f\\\"{base_dir}/output/\\\"\\n\\n# Set experimental metadata\\nsubset = \\\"concat\\\"\\nnorm = \\\"no-norm\\\"\\n\\nemd_df_master_wide = pd.read_csv(f\\\"{input_dir}/emd_df_master_{subset}_{norm}.csv\\\")\\nemd_df_master_wide.head()\\nemd_df_master_wide.columns\\n\\n# Define markers used for PCA\\ndr_panel = [\\n    # cell-type\\n    \\\"111Cd_CD44\\\",\\n    # \\\"113In_CEACAM1_CD66a\\\",\\n    # \\\"115In_Pan-CK\\\",\\n    # \\\"116Cd_GFP\\\",\\n    \\\"143Nd_C-MYC_1\\\",\\n    \\\"162Dy_LRIG1_1\\\",\\n    \\\"169Tm_EPHB2\\\",\\n    \\\"171Yb_SOX9_5\\\",\\n    \\\"174Yb_Clusterin_1\\\",\\n    \\\"175Lu_Survivin_2\\\",\\n    \\\"176Yb_FABP2\\\",\\n]\\n\\ndr_matrix = master_df_subset(emd_df_master_wide, dr_panel)\";\n                var nbb_formatted_code = \"# Import data\\nbase_dir = \\\"/Users/xiaoqin/Dropbox/TAPE LAB/Manuscripts/Qin & Cardoso Rodriguez et al/SupplementaryMaterials/Qin-CardosoRodriguez-et-al_analysis/Figure5-S5/CellChat Follow-up\\\"\\ninput_dir = f\\\"{base_dir}/output/emd\\\"\\noutput_dir = f\\\"{base_dir}/output/\\\"\\n\\n# Set experimental metadata\\nsubset = \\\"concat\\\"\\nnorm = \\\"no-norm\\\"\\n\\nemd_df_master_wide = pd.read_csv(f\\\"{input_dir}/emd_df_master_{subset}_{norm}.csv\\\")\\nemd_df_master_wide.head()\\nemd_df_master_wide.columns\\n\\n# Define markers used for PCA\\ndr_panel = [\\n    # cell-type\\n    \\\"111Cd_CD44\\\",\\n    # \\\"113In_CEACAM1_CD66a\\\",\\n    # \\\"115In_Pan-CK\\\",\\n    # \\\"116Cd_GFP\\\",\\n    \\\"143Nd_C-MYC_1\\\",\\n    \\\"162Dy_LRIG1_1\\\",\\n    \\\"169Tm_EPHB2\\\",\\n    \\\"171Yb_SOX9_5\\\",\\n    \\\"174Yb_Clusterin_1\\\",\\n    \\\"175Lu_Survivin_2\\\",\\n    \\\"176Yb_FABP2\\\",\\n]\\n\\ndr_matrix = master_df_subset(emd_df_master_wide, dr_panel)\";\n                var nbb_cells = Jupyter.notebook.get_cells();\n                for (var i = 0; i < nbb_cells.length; ++i) {\n                    if (nbb_cells[i].input_prompt_number == nbb_cell_id) {\n                        if (nbb_cells[i].get_text() == nbb_unformatted_code) {\n                             nbb_cells[i].set_text(nbb_formatted_code);\n                        }\n                        break;\n                    }\n                }\n            }, 500);\n            ",
      "text/plain": [
       "<IPython.core.display.Javascript object>"
      ]
     },
     "metadata": {},
     "output_type": "display_data"
    }
   ],
   "source": [
    "# Import data\n",
    "base_dir = \"/Users/xiaoqin/Dropbox/TAPE LAB/Manuscripts/Qin & Cardoso Rodriguez et al/SupplementaryMaterials/Qin-CardosoRodriguez-et-al_analysis/Figure5-S5/CellChat Follow-up\"\n",
    "input_dir = f\"{base_dir}/output/emd\"\n",
    "output_dir = f\"{base_dir}/output/\"\n",
    "\n",
    "# Set experimental metadata\n",
    "subset = \"concat\"\n",
    "norm = \"no-norm\"\n",
    "\n",
    "emd_df_master_wide = pd.read_csv(f\"{input_dir}/emd_df_master_{subset}_{norm}.csv\")\n",
    "emd_df_master_wide.head()\n",
    "emd_df_master_wide.columns\n",
    "\n",
    "# Define markers used for PCA\n",
    "dr_panel = [\n",
    "    # cell-type\n",
    "    \"111Cd_CD44\",\n",
    "    # \"113In_CEACAM1_CD66a\",\n",
    "    # \"115In_Pan-CK\",\n",
    "    # \"116Cd_GFP\",\n",
    "    \"143Nd_C-MYC_1\",\n",
    "    \"162Dy_LRIG1_1\",\n",
    "    \"169Tm_EPHB2\",\n",
    "    \"171Yb_SOX9_5\",\n",
    "    \"174Yb_Clusterin_1\",\n",
    "    \"175Lu_Survivin_2\",\n",
    "    \"176Yb_FABP2\",\n",
    "]\n",
    "\n",
    "dr_matrix = master_df_subset(emd_df_master_wide, dr_panel)\n"
   ]
  },
  {
   "cell_type": "code",
   "execution_count": 12,
   "metadata": {},
   "outputs": [
    {
     "data": {
      "text/html": [
       "<div>\n",
       "<style scoped>\n",
       "    .dataframe tbody tr th:only-of-type {\n",
       "        vertical-align: middle;\n",
       "    }\n",
       "\n",
       "    .dataframe tbody tr th {\n",
       "        vertical-align: top;\n",
       "    }\n",
       "\n",
       "    .dataframe thead th {\n",
       "        text-align: right;\n",
       "    }\n",
       "</style>\n",
       "<table border=\"1\" class=\"dataframe\">\n",
       "  <thead>\n",
       "    <tr style=\"text-align: right;\">\n",
       "      <th></th>\n",
       "      <th>batch</th>\n",
       "      <th>barcode</th>\n",
       "      <th>genotype</th>\n",
       "      <th>media</th>\n",
       "      <th>replicate</th>\n",
       "      <th>culture</th>\n",
       "      <th>condition</th>\n",
       "      <th>A</th>\n",
       "      <th>K</th>\n",
       "      <th>P</th>\n",
       "      <th>...</th>\n",
       "      <th>174Yb_Clusterin_1</th>\n",
       "      <th>175Lu_Survivin_2</th>\n",
       "      <th>176Yb_FABP2</th>\n",
       "      <th>191Ir_DNA 1</th>\n",
       "      <th>193Ir_DNA 2</th>\n",
       "      <th>194Pt_Cisplatin</th>\n",
       "      <th>209Bi_DiMeHH3_K4</th>\n",
       "      <th>89Y_pHH3_S28</th>\n",
       "      <th>0</th>\n",
       "      <th>1</th>\n",
       "    </tr>\n",
       "  </thead>\n",
       "  <tbody>\n",
       "    <tr>\n",
       "      <th>0</th>\n",
       "      <td>B2</td>\n",
       "      <td>37</td>\n",
       "      <td>KP</td>\n",
       "      <td>Ctrl</td>\n",
       "      <td>1</td>\n",
       "      <td>KP_Ctrl</td>\n",
       "      <td>B2_KP_Ctrl_1</td>\n",
       "      <td>0</td>\n",
       "      <td>1</td>\n",
       "      <td>1</td>\n",
       "      <td>...</td>\n",
       "      <td>0.160659</td>\n",
       "      <td>0.048911</td>\n",
       "      <td>-0.059880</td>\n",
       "      <td>0.020784</td>\n",
       "      <td>0.020311</td>\n",
       "      <td>0.029405</td>\n",
       "      <td>-0.058917</td>\n",
       "      <td>0.022633</td>\n",
       "      <td>-0.059103</td>\n",
       "      <td>-0.096956</td>\n",
       "    </tr>\n",
       "    <tr>\n",
       "      <th>1</th>\n",
       "      <td>B2</td>\n",
       "      <td>38</td>\n",
       "      <td>KP</td>\n",
       "      <td>Ctrl</td>\n",
       "      <td>2</td>\n",
       "      <td>KP_Ctrl</td>\n",
       "      <td>B2_KP_Ctrl_2</td>\n",
       "      <td>0</td>\n",
       "      <td>1</td>\n",
       "      <td>1</td>\n",
       "      <td>...</td>\n",
       "      <td>-0.053910</td>\n",
       "      <td>-0.033219</td>\n",
       "      <td>0.113322</td>\n",
       "      <td>-0.011114</td>\n",
       "      <td>-0.010597</td>\n",
       "      <td>-0.101579</td>\n",
       "      <td>0.072220</td>\n",
       "      <td>0.017631</td>\n",
       "      <td>-0.162410</td>\n",
       "      <td>0.049063</td>\n",
       "    </tr>\n",
       "    <tr>\n",
       "      <th>2</th>\n",
       "      <td>B2</td>\n",
       "      <td>39</td>\n",
       "      <td>KP</td>\n",
       "      <td>Ctrl</td>\n",
       "      <td>3</td>\n",
       "      <td>KP_Ctrl</td>\n",
       "      <td>B2_KP_Ctrl_3</td>\n",
       "      <td>0</td>\n",
       "      <td>1</td>\n",
       "      <td>1</td>\n",
       "      <td>...</td>\n",
       "      <td>-0.128658</td>\n",
       "      <td>-0.024540</td>\n",
       "      <td>-0.091181</td>\n",
       "      <td>-0.016513</td>\n",
       "      <td>0.017201</td>\n",
       "      <td>0.115308</td>\n",
       "      <td>-0.046429</td>\n",
       "      <td>-0.040368</td>\n",
       "      <td>-0.095140</td>\n",
       "      <td>0.231347</td>\n",
       "    </tr>\n",
       "    <tr>\n",
       "      <th>3</th>\n",
       "      <td>B2</td>\n",
       "      <td>43</td>\n",
       "      <td>KP</td>\n",
       "      <td>WNT3A</td>\n",
       "      <td>1</td>\n",
       "      <td>KP_WNT3A</td>\n",
       "      <td>B2_KP_WNT3A_1</td>\n",
       "      <td>0</td>\n",
       "      <td>1</td>\n",
       "      <td>1</td>\n",
       "      <td>...</td>\n",
       "      <td>1.573649</td>\n",
       "      <td>-0.240639</td>\n",
       "      <td>-0.302297</td>\n",
       "      <td>-0.098076</td>\n",
       "      <td>-0.095550</td>\n",
       "      <td>0.099822</td>\n",
       "      <td>-0.817154</td>\n",
       "      <td>-0.159309</td>\n",
       "      <td>1.410704</td>\n",
       "      <td>-0.646976</td>\n",
       "    </tr>\n",
       "    <tr>\n",
       "      <th>4</th>\n",
       "      <td>B2</td>\n",
       "      <td>44</td>\n",
       "      <td>KP</td>\n",
       "      <td>WNT3A</td>\n",
       "      <td>2</td>\n",
       "      <td>KP_WNT3A</td>\n",
       "      <td>B2_KP_WNT3A_2</td>\n",
       "      <td>0</td>\n",
       "      <td>1</td>\n",
       "      <td>1</td>\n",
       "      <td>...</td>\n",
       "      <td>2.050376</td>\n",
       "      <td>-0.189859</td>\n",
       "      <td>-0.448980</td>\n",
       "      <td>-0.064793</td>\n",
       "      <td>-0.062799</td>\n",
       "      <td>0.087057</td>\n",
       "      <td>-0.758621</td>\n",
       "      <td>-0.130683</td>\n",
       "      <td>1.662728</td>\n",
       "      <td>-1.064709</td>\n",
       "    </tr>\n",
       "  </tbody>\n",
       "</table>\n",
       "<p>5 rows × 54 columns</p>\n",
       "</div>"
      ],
      "text/plain": [
       "  batch  barcode genotype  media  replicate   culture      condition  A  K  P  \\\n",
       "0    B2       37       KP   Ctrl          1   KP_Ctrl   B2_KP_Ctrl_1  0  1  1   \n",
       "1    B2       38       KP   Ctrl          2   KP_Ctrl   B2_KP_Ctrl_2  0  1  1   \n",
       "2    B2       39       KP   Ctrl          3   KP_Ctrl   B2_KP_Ctrl_3  0  1  1   \n",
       "3    B2       43       KP  WNT3A          1  KP_WNT3A  B2_KP_WNT3A_1  0  1  1   \n",
       "4    B2       44       KP  WNT3A          2  KP_WNT3A  B2_KP_WNT3A_2  0  1  1   \n",
       "\n",
       "   ...  174Yb_Clusterin_1  175Lu_Survivin_2  176Yb_FABP2  191Ir_DNA 1  \\\n",
       "0  ...           0.160659          0.048911    -0.059880     0.020784   \n",
       "1  ...          -0.053910         -0.033219     0.113322    -0.011114   \n",
       "2  ...          -0.128658         -0.024540    -0.091181    -0.016513   \n",
       "3  ...           1.573649         -0.240639    -0.302297    -0.098076   \n",
       "4  ...           2.050376         -0.189859    -0.448980    -0.064793   \n",
       "\n",
       "   193Ir_DNA 2  194Pt_Cisplatin  209Bi_DiMeHH3_K4  89Y_pHH3_S28         0  \\\n",
       "0     0.020311         0.029405         -0.058917      0.022633 -0.059103   \n",
       "1    -0.010597        -0.101579          0.072220      0.017631 -0.162410   \n",
       "2     0.017201         0.115308         -0.046429     -0.040368 -0.095140   \n",
       "3    -0.095550         0.099822         -0.817154     -0.159309  1.410704   \n",
       "4    -0.062799         0.087057         -0.758621     -0.130683  1.662728   \n",
       "\n",
       "          1  \n",
       "0 -0.096956  \n",
       "1  0.049063  \n",
       "2  0.231347  \n",
       "3 -0.646976  \n",
       "4 -1.064709  \n",
       "\n",
       "[5 rows x 54 columns]"
      ]
     },
     "execution_count": 12,
     "metadata": {},
     "output_type": "execute_result"
    },
    {
     "data": {
      "application/javascript": "\n            setTimeout(function() {\n                var nbb_cell_id = 12;\n                var nbb_unformatted_code = \"# ---\\n# PCA\\n# ---\\n\\npca = PCA(n_components=2)\\npca.fit(dr_matrix)\\n\\nY_pca = pca.transform(dr_matrix)\\npc1 = round(pca.explained_variance_ratio_[0] * 100, 2)  # %variance explained\\npc2 = round(pca.explained_variance_ratio_[1] * 100, 2)\\n\\n# Join PCA coordinates with EMD dataframe\\nY_pca_df = pd.DataFrame(Y_pca).reset_index()\\nemd_df_master_wide = emd_df_master_wide.reset_index(drop=True).reset_index()\\nY_pca_df = pd.merge(emd_df_master_wide, Y_pca_df, on=\\\"index\\\")\\nY_pca_df.drop(columns=[\\\"index\\\"], inplace=True)\\nemd_df_master_wide.drop(columns=\\\"index\\\", inplace=True)\\nY_pca_df.head()\";\n                var nbb_formatted_code = \"# ---\\n# PCA\\n# ---\\n\\npca = PCA(n_components=2)\\npca.fit(dr_matrix)\\n\\nY_pca = pca.transform(dr_matrix)\\npc1 = round(pca.explained_variance_ratio_[0] * 100, 2)  # %variance explained\\npc2 = round(pca.explained_variance_ratio_[1] * 100, 2)\\n\\n# Join PCA coordinates with EMD dataframe\\nY_pca_df = pd.DataFrame(Y_pca).reset_index()\\nemd_df_master_wide = emd_df_master_wide.reset_index(drop=True).reset_index()\\nY_pca_df = pd.merge(emd_df_master_wide, Y_pca_df, on=\\\"index\\\")\\nY_pca_df.drop(columns=[\\\"index\\\"], inplace=True)\\nemd_df_master_wide.drop(columns=\\\"index\\\", inplace=True)\\nY_pca_df.head()\";\n                var nbb_cells = Jupyter.notebook.get_cells();\n                for (var i = 0; i < nbb_cells.length; ++i) {\n                    if (nbb_cells[i].input_prompt_number == nbb_cell_id) {\n                        if (nbb_cells[i].get_text() == nbb_unformatted_code) {\n                             nbb_cells[i].set_text(nbb_formatted_code);\n                        }\n                        break;\n                    }\n                }\n            }, 500);\n            ",
      "text/plain": [
       "<IPython.core.display.Javascript object>"
      ]
     },
     "metadata": {},
     "output_type": "display_data"
    }
   ],
   "source": [
    "# ---\n",
    "# PCA\n",
    "# ---\n",
    "\n",
    "pca = PCA(n_components=2)\n",
    "pca.fit(dr_matrix)\n",
    "\n",
    "Y_pca = pca.transform(dr_matrix)\n",
    "pc1 = round(pca.explained_variance_ratio_[0] * 100, 2)  # %variance explained\n",
    "pc2 = round(pca.explained_variance_ratio_[1] * 100, 2)\n",
    "\n",
    "# Join PCA coordinates with EMD dataframe\n",
    "Y_pca_df = pd.DataFrame(Y_pca).reset_index()\n",
    "emd_df_master_wide = emd_df_master_wide.reset_index(drop=True).reset_index()\n",
    "Y_pca_df = pd.merge(emd_df_master_wide, Y_pca_df, on=\"index\")\n",
    "Y_pca_df.drop(columns=[\"index\"], inplace=True)\n",
    "emd_df_master_wide.drop(columns=\"index\", inplace=True)\n",
    "Y_pca_df.head()\n"
   ]
  },
  {
   "cell_type": "markdown",
   "metadata": {},
   "source": [
    "## Plots split by genotype"
   ]
  },
  {
   "cell_type": "code",
   "execution_count": 13,
   "metadata": {},
   "outputs": [
    {
     "data": {
      "image/png": "[encoded data removed]",
      "text/plain": [
       "<Figure size 180x180 with 1 Axes>"
      ]
     },
     "metadata": {},
     "output_type": "display_data"
    },
    {
     "data": {
      "image/png": "[encoded data removed]",
      "text/plain": [
       "<Figure size 180x180 with 1 Axes>"
      ]
     },
     "metadata": {},
     "output_type": "display_data"
    },
    {
     "data": {
      "image/png": "[encoded data removed]",
      "text/plain": [
       "<Figure size 180x180 with 1 Axes>"
      ]
     },
     "metadata": {},
     "output_type": "display_data"
    },
    {
     "data": {
      "image/png": "[encoded data removed]",
      "text/plain": [
       "<Figure size 180x180 with 1 Axes>"
      ]
     },
     "metadata": {},
     "output_type": "display_data"
    },
    {
     "data": {
      "image/png": "[encoded data removed]",
      "text/plain": [
       "<Figure size 180x180 with 1 Axes>"
      ]
     },
     "metadata": {},
     "output_type": "display_data"
    },
    {
     "data": {
      "image/png": "[encoded data removed]",
      "text/plain": [
       "<Figure size 180x180 with 1 Axes>"
      ]
     },
     "metadata": {},
     "output_type": "display_data"
    },
    {
     "data": {
      "application/javascript": "\n            setTimeout(function() {\n                var nbb_cell_id = 13;\n                var nbb_unformatted_code = \"genotypes = [\\\"WT\\\", \\\"A\\\", \\\"K\\\", \\\"KP\\\", \\\"AK\\\", \\\"AKP\\\"]\\n\\nfor genotype in genotypes:\\n\\n    Y_pca_df_subset = Y_pca_df[Y_pca_df[\\\"genotype\\\"] == genotype]\\n    # Adjust the plotting order\\n    Y_pca_df_subset_ctrl = Y_pca_df_subset.loc[Y_pca_df_subset[\\\"media\\\"] == \\\"Ctrl\\\"]\\n    Y_pca_df_subset_other = Y_pca_df_subset.loc[\\n        -Y_pca_df_subset[\\\"media\\\"].isin([\\\"Ctrl\\\"])\\n    ]\\n    Y_pca_df_subset = pd.concat([Y_pca_df_subset_other, Y_pca_df_subset_ctrl])\\n\\n    facets = [\\\"media\\\"]\\n    for facet in facets:\\n        fig, ax = plt.subplots(1, 1, figsize=(1.8, 1.8))\\n        ax.set_xlim(-1.2, 2.4),\\n        ax.set_ylim(-1.8, 1.8),\\n        [x.set_linewidth(0.5) for x in ax.spines.values()]\\n\\n        fig = scprep.plot.scatter2d(\\n            Y_pca_df_subset.iloc[:, -2:],\\n            c=Y_pca_df_subset.loc[:, facet],\\n            cmap=colours,\\n            ticks=False,\\n            s=5,\\n            # xlabel=f\\\"PC1_{pc1}%\\\",\\n            # ylabel=f\\\"PC2_{pc2}%\\\",\\n            xlabel=\\\"\\\",\\n            ylabel=\\\"\\\",\\n            legend=False,\\n            # title=facet,\\n            legend_ncol=2,\\n            ax=ax,\\n        )\\n        fig.axis(\\\"off\\\")\\n        # plt.savefig(\\n        #     f\\\"{output_dir}/EMD-PCA_concat_{genotype}_{facet}.pdf\\\",\\n        #     bbox_inches=\\\"tight\\\",\\n        # )\";\n                var nbb_formatted_code = \"genotypes = [\\\"WT\\\", \\\"A\\\", \\\"K\\\", \\\"KP\\\", \\\"AK\\\", \\\"AKP\\\"]\\n\\nfor genotype in genotypes:\\n\\n    Y_pca_df_subset = Y_pca_df[Y_pca_df[\\\"genotype\\\"] == genotype]\\n    # Adjust the plotting order\\n    Y_pca_df_subset_ctrl = Y_pca_df_subset.loc[Y_pca_df_subset[\\\"media\\\"] == \\\"Ctrl\\\"]\\n    Y_pca_df_subset_other = Y_pca_df_subset.loc[\\n        -Y_pca_df_subset[\\\"media\\\"].isin([\\\"Ctrl\\\"])\\n    ]\\n    Y_pca_df_subset = pd.concat([Y_pca_df_subset_other, Y_pca_df_subset_ctrl])\\n\\n    facets = [\\\"media\\\"]\\n    for facet in facets:\\n        fig, ax = plt.subplots(1, 1, figsize=(1.8, 1.8))\\n        ax.set_xlim(-1.2, 2.4),\\n        ax.set_ylim(-1.8, 1.8),\\n        [x.set_linewidth(0.5) for x in ax.spines.values()]\\n\\n        fig = scprep.plot.scatter2d(\\n            Y_pca_df_subset.iloc[:, -2:],\\n            c=Y_pca_df_subset.loc[:, facet],\\n            cmap=colours,\\n            ticks=False,\\n            s=5,\\n            # xlabel=f\\\"PC1_{pc1}%\\\",\\n            # ylabel=f\\\"PC2_{pc2}%\\\",\\n            xlabel=\\\"\\\",\\n            ylabel=\\\"\\\",\\n            legend=False,\\n            # title=facet,\\n            legend_ncol=2,\\n            ax=ax,\\n        )\\n        fig.axis(\\\"off\\\")\\n        # plt.savefig(\\n        #     f\\\"{output_dir}/EMD-PCA_concat_{genotype}_{facet}.pdf\\\",\\n        #     bbox_inches=\\\"tight\\\",\\n        # )\";\n                var nbb_cells = Jupyter.notebook.get_cells();\n                for (var i = 0; i < nbb_cells.length; ++i) {\n                    if (nbb_cells[i].input_prompt_number == nbb_cell_id) {\n                        if (nbb_cells[i].get_text() == nbb_unformatted_code) {\n                             nbb_cells[i].set_text(nbb_formatted_code);\n                        }\n                        break;\n                    }\n                }\n            }, 500);\n            ",
      "text/plain": [
       "<IPython.core.display.Javascript object>"
      ]
     },
     "metadata": {},
     "output_type": "display_data"
    }
   ],
   "source": [
    "genotypes = [\"WT\", \"A\", \"K\", \"KP\", \"AK\", \"AKP\"]\n",
    "\n",
    "for genotype in genotypes:\n",
    "\n",
    "    Y_pca_df_subset = Y_pca_df[Y_pca_df[\"genotype\"] == genotype]\n",
    "    # Adjust the plotting order\n",
    "    Y_pca_df_subset_ctrl = Y_pca_df_subset.loc[Y_pca_df_subset[\"media\"] == \"Ctrl\"]\n",
    "    Y_pca_df_subset_other = Y_pca_df_subset.loc[\n",
    "        -Y_pca_df_subset[\"media\"].isin([\"Ctrl\"])\n",
    "    ]\n",
    "    Y_pca_df_subset = pd.concat([Y_pca_df_subset_other, Y_pca_df_subset_ctrl])\n",
    "\n",
    "    facets = [\"media\"]\n",
    "    for facet in facets:\n",
    "        fig, ax = plt.subplots(1, 1, figsize=(1.8, 1.8))\n",
    "        ax.set_xlim(-1.2, 2.4),\n",
    "        ax.set_ylim(-1.8, 1.8),\n",
    "        [x.set_linewidth(0.5) for x in ax.spines.values()]\n",
    "\n",
    "        fig = scprep.plot.scatter2d(\n",
    "            Y_pca_df_subset.iloc[:, -2:],\n",
    "            c=Y_pca_df_subset.loc[:, facet],\n",
    "            cmap=colours,\n",
    "            ticks=False,\n",
    "            s=5,\n",
    "            # xlabel=f\"PC1_{pc1}%\",\n",
    "            # ylabel=f\"PC2_{pc2}%\",\n",
    "            xlabel=\"\",\n",
    "            ylabel=\"\",\n",
    "            legend=False,\n",
    "            # title=facet,\n",
    "            legend_ncol=2,\n",
    "            ax=ax,\n",
    "        )\n",
    "        fig.axis(\"off\")\n",
    "        # plt.savefig(\n",
    "        #     f\"{output_dir}/EMD-PCA_concat_{genotype}_{facet}.pdf\",\n",
    "        #     bbox_inches=\"tight\",\n",
    "        # )\n"
   ]
  },
  {
   "attachments": {},
   "cell_type": "markdown",
   "metadata": {},
   "source": [
    "## Metadata (Figure S5)"
   ]
  },
  {
   "cell_type": "code",
   "execution_count": 14,
   "metadata": {},
   "outputs": [
    {
     "data": {
      "image/png": "[encoded data removed]",
      "text/plain": [
       "<Figure size 180x180 with 1 Axes>"
      ]
     },
     "metadata": {},
     "output_type": "display_data"
    },
    {
     "data": {
      "image/png": "[encoded data removed]",
      "text/plain": [
       "<Figure size 180x180 with 1 Axes>"
      ]
     },
     "metadata": {},
     "output_type": "display_data"
    },
    {
     "data": {
      "application/javascript": "\n            setTimeout(function() {\n                var nbb_cell_id = 14;\n                var nbb_unformatted_code = \"facets = [\\\"genotype\\\", \\\"media\\\"]\\n\\nfor facet in facets:\\n\\n    # Adjust the plotting order\\n    Y_pca_df_ctrl = Y_pca_df.loc[Y_pca_df[\\\"media\\\"] == \\\"Ctrl\\\"]\\n    Y_pca_df_other = Y_pca_df.loc[-Y_pca_df[\\\"media\\\"].isin([\\\"Ctrl\\\"])]\\n    Y_pca_df = pd.concat([Y_pca_df_other, Y_pca_df_ctrl])\\n\\n    fig, ax = plt.subplots(1, 1, figsize=(1.8, 1.8))\\n    ax.set_xlim(-1.2, 2.4),\\n    ax.set_ylim(-1.8, 1.8),\\n    [x.set_linewidth(0.5) for x in ax.spines.values()]\\n\\n    fig = scprep.plot.scatter2d(\\n        Y_pca_df.iloc[:, -2:],\\n        c=Y_pca_df.loc[:, facet],\\n        cmap=colours,\\n        ticks=False,\\n        s=5,\\n        # xlabel=f\\\"PC1_{pc1}%\\\",\\n        # ylabel=f\\\"PC2_{pc2}%\\\",\\n        xlabel=\\\"\\\",\\n        ylabel=\\\"\\\",\\n        legend=False,\\n        # title=facet,\\n        legend_ncol=2,\\n        ax=ax,\\n    )\\n    fig.axis(\\\"off\\\")\\n    # plt.savefig(\\n    #     f\\\"{output_dir}/EMD-PCA_concat_{facet}.pdf\\\",\\n    #     bbox_inches=\\\"tight\\\",\\n    #     )\";\n                var nbb_formatted_code = \"facets = [\\\"genotype\\\", \\\"media\\\"]\\n\\nfor facet in facets:\\n\\n    # Adjust the plotting order\\n    Y_pca_df_ctrl = Y_pca_df.loc[Y_pca_df[\\\"media\\\"] == \\\"Ctrl\\\"]\\n    Y_pca_df_other = Y_pca_df.loc[-Y_pca_df[\\\"media\\\"].isin([\\\"Ctrl\\\"])]\\n    Y_pca_df = pd.concat([Y_pca_df_other, Y_pca_df_ctrl])\\n\\n    fig, ax = plt.subplots(1, 1, figsize=(1.8, 1.8))\\n    ax.set_xlim(-1.2, 2.4),\\n    ax.set_ylim(-1.8, 1.8),\\n    [x.set_linewidth(0.5) for x in ax.spines.values()]\\n\\n    fig = scprep.plot.scatter2d(\\n        Y_pca_df.iloc[:, -2:],\\n        c=Y_pca_df.loc[:, facet],\\n        cmap=colours,\\n        ticks=False,\\n        s=5,\\n        # xlabel=f\\\"PC1_{pc1}%\\\",\\n        # ylabel=f\\\"PC2_{pc2}%\\\",\\n        xlabel=\\\"\\\",\\n        ylabel=\\\"\\\",\\n        legend=False,\\n        # title=facet,\\n        legend_ncol=2,\\n        ax=ax,\\n    )\\n    fig.axis(\\\"off\\\")\\n    # plt.savefig(\\n    #     f\\\"{output_dir}/EMD-PCA_concat_{facet}.pdf\\\",\\n    #     bbox_inches=\\\"tight\\\",\\n    #     )\";\n                var nbb_cells = Jupyter.notebook.get_cells();\n                for (var i = 0; i < nbb_cells.length; ++i) {\n                    if (nbb_cells[i].input_prompt_number == nbb_cell_id) {\n                        if (nbb_cells[i].get_text() == nbb_unformatted_code) {\n                             nbb_cells[i].set_text(nbb_formatted_code);\n                        }\n                        break;\n                    }\n                }\n            }, 500);\n            ",
      "text/plain": [
       "<IPython.core.display.Javascript object>"
      ]
     },
     "metadata": {},
     "output_type": "display_data"
    }
   ],
   "source": [
    "facets = [\"genotype\", \"media\"]\n",
    "\n",
    "for facet in facets:\n",
    "\n",
    "    # Adjust the plotting order\n",
    "    Y_pca_df_ctrl = Y_pca_df.loc[Y_pca_df[\"media\"] == \"Ctrl\"]\n",
    "    Y_pca_df_other = Y_pca_df.loc[-Y_pca_df[\"media\"].isin([\"Ctrl\"])]\n",
    "    Y_pca_df = pd.concat([Y_pca_df_other, Y_pca_df_ctrl])\n",
    "\n",
    "    fig, ax = plt.subplots(1, 1, figsize=(1.8, 1.8))\n",
    "    ax.set_xlim(-1.2, 2.4),\n",
    "    ax.set_ylim(-1.8, 1.8),\n",
    "    [x.set_linewidth(0.5) for x in ax.spines.values()]\n",
    "\n",
    "    fig = scprep.plot.scatter2d(\n",
    "        Y_pca_df.iloc[:, -2:],\n",
    "        c=Y_pca_df.loc[:, facet],\n",
    "        cmap=colours,\n",
    "        ticks=False,\n",
    "        s=5,\n",
    "        # xlabel=f\"PC1_{pc1}%\",\n",
    "        # ylabel=f\"PC2_{pc2}%\",\n",
    "        xlabel=\"\",\n",
    "        ylabel=\"\",\n",
    "        legend=False,\n",
    "        # title=facet,\n",
    "        legend_ncol=2,\n",
    "        ax=ax,\n",
    "    )\n",
    "    fig.axis(\"off\")\n",
    "    # plt.savefig(\n",
    "    #     f\"{output_dir}/EMD-PCA_concat_{facet}.pdf\",\n",
    "    #     bbox_inches=\"tight\",\n",
    "    #     )\n"
   ]
  },
  {
   "attachments": {},
   "cell_type": "markdown",
   "metadata": {},
   "source": [
    "## CLU & SURVIVIN"
   ]
  },
  {
   "cell_type": "code",
   "execution_count": 15,
   "metadata": {},
   "outputs": [
    {
     "data": {
      "image/png": "[encoded data removed]",
      "text/plain": [
       "<Figure size 180x180 with 1 Axes>"
      ]
     },
     "metadata": {},
     "output_type": "display_data"
    },
    {
     "data": {
      "image/png": "[encoded data removed]",
      "text/plain": [
       "<Figure size 180x180 with 1 Axes>"
      ]
     },
     "metadata": {},
     "output_type": "display_data"
    },
    {
     "data": {
      "application/javascript": "\n            setTimeout(function() {\n                var nbb_cell_id = 15;\n                var nbb_unformatted_code = \"for marker in [\\\"174Yb_Clusterin_1\\\", \\\"175Lu_Survivin_2\\\"]:\\n    fig, ax = plt.subplots(1, 1, figsize=(1.8, 1.8))\\n    ax.set_xlim(-1.2, 2.4),\\n    ax.set_ylim(-1.8, 1.8),\\n    [x.set_linewidth(0.5) for x in ax.spines.values()]\\n\\n    fig = scprep.plot.scatter2d(\\n        Y_pca_df.iloc[:, -2:],\\n        c=Y_pca_df.loc[:, marker],\\n        cmap=sns.color_palette(\\\"Spectral_r\\\", as_cmap=True),\\n        ticks=False,\\n        s=5,\\n        # xlabel=f\\\"PC1_{pc1}%\\\",\\n        # ylabel=f\\\"PC2_{pc2}%\\\",\\n        xlabel=\\\"\\\",\\n        ylabel=\\\"\\\",\\n        legend=False,\\n        title=\\\"\\\",\\n        # legend_ncol=2,\\n        ax=ax,\\n    )\\n    fig.axis(\\\"off\\\")\\n    # plt.savefig(\\n    #     f\\\"{output_dir}/EMD-PCA_concat_{marker}.pdf\\\",\\n    #     bbox_inches=\\\"tight\\\",\\n    #     )\";\n                var nbb_formatted_code = \"for marker in [\\\"174Yb_Clusterin_1\\\", \\\"175Lu_Survivin_2\\\"]:\\n    fig, ax = plt.subplots(1, 1, figsize=(1.8, 1.8))\\n    ax.set_xlim(-1.2, 2.4),\\n    ax.set_ylim(-1.8, 1.8),\\n    [x.set_linewidth(0.5) for x in ax.spines.values()]\\n\\n    fig = scprep.plot.scatter2d(\\n        Y_pca_df.iloc[:, -2:],\\n        c=Y_pca_df.loc[:, marker],\\n        cmap=sns.color_palette(\\\"Spectral_r\\\", as_cmap=True),\\n        ticks=False,\\n        s=5,\\n        # xlabel=f\\\"PC1_{pc1}%\\\",\\n        # ylabel=f\\\"PC2_{pc2}%\\\",\\n        xlabel=\\\"\\\",\\n        ylabel=\\\"\\\",\\n        legend=False,\\n        title=\\\"\\\",\\n        # legend_ncol=2,\\n        ax=ax,\\n    )\\n    fig.axis(\\\"off\\\")\\n    # plt.savefig(\\n    #     f\\\"{output_dir}/EMD-PCA_concat_{marker}.pdf\\\",\\n    #     bbox_inches=\\\"tight\\\",\\n    #     )\";\n                var nbb_cells = Jupyter.notebook.get_cells();\n                for (var i = 0; i < nbb_cells.length; ++i) {\n                    if (nbb_cells[i].input_prompt_number == nbb_cell_id) {\n                        if (nbb_cells[i].get_text() == nbb_unformatted_code) {\n                             nbb_cells[i].set_text(nbb_formatted_code);\n                        }\n                        break;\n                    }\n                }\n            }, 500);\n            ",
      "text/plain": [
       "<IPython.core.display.Javascript object>"
      ]
     },
     "metadata": {},
     "output_type": "display_data"
    }
   ],
   "source": [
    "for marker in [\"174Yb_Clusterin_1\", \"175Lu_Survivin_2\"]:\n",
    "    fig, ax = plt.subplots(1, 1, figsize=(1.8, 1.8))\n",
    "    ax.set_xlim(-1.2, 2.4),\n",
    "    ax.set_ylim(-1.8, 1.8),\n",
    "    [x.set_linewidth(0.5) for x in ax.spines.values()]\n",
    "\n",
    "    fig = scprep.plot.scatter2d(\n",
    "        Y_pca_df.iloc[:, -2:],\n",
    "        c=Y_pca_df.loc[:, marker],\n",
    "        cmap=sns.color_palette(\"Spectral_r\", as_cmap=True),\n",
    "        ticks=False,\n",
    "        s=5,\n",
    "        # xlabel=f\"PC1_{pc1}%\",\n",
    "        # ylabel=f\"PC2_{pc2}%\",\n",
    "        xlabel=\"\",\n",
    "        ylabel=\"\",\n",
    "        legend=False,\n",
    "        title=\"\",\n",
    "        # legend_ncol=2,\n",
    "        ax=ax,\n",
    "    )\n",
    "    fig.axis(\"off\")\n",
    "    # plt.savefig(\n",
    "    #     f\"{output_dir}/EMD-PCA_concat_{marker}.pdf\",\n",
    "    #     bbox_inches=\"tight\",\n",
    "    #     )\n"
   ]
  }
 ],
 "metadata": {
  "kernelspec": {
   "display_name": "base",
   "language": "python",
   "name": "python3"
  },
  "language_info": {
   "codemirror_mode": {
    "name": "ipython",
    "version": 3
   },
   "file_extension": ".py",
   "mimetype": "text/x-python",
   "name": "python",
   "nbconvert_exporter": "python",
   "pygments_lexer": "ipython3",
   "version": "3.10.6"
  },
  "orig_nbformat": 4,
  "vscode": {
   "interpreter": {
    "hash": "c6e4e9f98eb68ad3b7c296f83d20e6de614cb42e90992a65aa266555a3137d0d"
   }
  }
 },
 "nbformat": 4,
 "nbformat_minor": 2
}
