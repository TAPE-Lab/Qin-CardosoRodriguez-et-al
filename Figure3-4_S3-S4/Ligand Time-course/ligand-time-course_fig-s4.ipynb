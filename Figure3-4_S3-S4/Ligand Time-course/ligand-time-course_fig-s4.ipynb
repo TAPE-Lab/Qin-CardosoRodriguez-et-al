{
 "cells": [
  {
   "attachments": {},
   "cell_type": "markdown",
   "metadata": {},
   "source": [
    "# Data Integration\n",
    "\n",
    "The integration script is for reference only and the integrated dataframe can be downloaded with the link: %"
   ]
  },
  {
   "cell_type": "code",
   "execution_count": 1,
   "metadata": {},
   "outputs": [],
   "source": [
    "import os, re, sys\n",
    "import fcsparser\n",
    "import pandas as pd\n",
    "\n",
    "sys.path.insert(0, \"../..\")\n",
    "from scripts.aux_functions import *\n",
    "from scripts.__init__ import non_marker\n"
   ]
  },
  {
   "cell_type": "code",
   "execution_count": null,
   "metadata": {},
   "outputs": [],
   "source": [
    "# Import raw data\n",
    "base_dir = \"/Users/xiaoqin/Dropbox/TAPE LAB/Manuscripts/Qin & Cardoso Rodriguez et al/SupplementaryMaterials/Qin-CardosoRodriguez-et-al_analysis/Figure3-4_S3-S4/Ligand Time-course\"\n",
    "os.makedirs(f\"{base_dir}/output\", exist_ok=True)\n",
    "input_dir = f\"{base_dir}/preprocessed_data\"\n",
    "output_dir = f\"{base_dir}/output\"\n",
    "\n",
    "filelist = [f for f in os.listdir(input_dir) if f.endswith(\".txt\")]\n",
    "filelist\n"
   ]
  },
  {
   "cell_type": "code",
   "execution_count": null,
   "metadata": {},
   "outputs": [],
   "source": [
    "# ---\n",
    "# Integration\n",
    "# ---\n",
    "\n",
    "# Naming convention:\n",
    "# batch_experiment_barcode_time-point_media_replicate\n",
    "# e.g. \"B4_Ligand Time-course_001_6h_Ctrl_1.txt\"\n",
    "\n",
    "integrated = pd.DataFrame()\n",
    "for f in filelist:\n",
    "    df_new = pd.read_csv(f\"{input_dir}/{f}\", sep=\"\\t\")\n",
    "\n",
    "    batch = f.split(\"_\")[0]\n",
    "    barcode = f.split(\"_\")[2]\n",
    "    time_point = f.split(\"_\")[3]\n",
    "    media = f.split(\"_\")[4]\n",
    "    # cell_type = f.split(\"_\")[-2]\n",
    "    replicate = f.split(\"_\")[-1].split(\".\")[0]\n",
    "\n",
    "    df_new[\"batch\"] = batch\n",
    "    df_new[\"barcode\"] = barcode\n",
    "    df_new[\"time_point\"] = time_point\n",
    "    df_new[\"media\"] = media\n",
    "    # df_new[\"cell_type\"] = cell_type\n",
    "    df_new[\"replicate\"] = replicate\n",
    "    df_new[\"culture\"] = time_point + \"_\" + media\n",
    "    df_new[\"condition\"] = time_point + \"_\" + media + \"_\" + replicate\n",
    "\n",
    "    integrated = pd.concat([integrated, df_new])\n",
    "integrated.head()\n",
    "integrated.shape\n",
    "\n",
    "# integrated = rename_panel(integrated)  # Revome the version number etc.\n",
    "integrated = integrated.rename(\n",
    "    columns=lambda x: re.sub(\"_v[0-9]+$\", \"\", x)\n",
    ")  # Revome the version number\n",
    "integrated.columns.values\n",
    "integrated.to_csv(f\"{output_dir}/integrated_dataframe_all-cells.csv\", index=False)\n"
   ]
  },
  {
   "attachments": {},
   "cell_type": "markdown",
   "metadata": {},
   "source": [
    "# EMD Calculation"
   ]
  },
  {
   "cell_type": "code",
   "execution_count": 2,
   "metadata": {},
   "outputs": [],
   "source": [
    "import os, sys\n",
    "import pandas as pd\n",
    "import scprep\n",
    "from scipy.stats import zscore\n",
    "\n",
    "sys.path.insert(0, \"../..\")\n",
    "from scripts.aux_functions import *\n",
    "from scripts.__init__ import non_marker\n"
   ]
  },
  {
   "cell_type": "code",
   "execution_count": 5,
   "metadata": {},
   "outputs": [],
   "source": [
    "# Import data\n",
    "base_dir = \"/Users/xiaoqin/Dropbox/TAPE LAB/Manuscripts/Qin & Cardoso Rodriguez et al/SupplementaryMaterials/Qin-CardosoRodriguez-et-al_analysis/Figure3-4_S3-S4/Ligand Time-course\"\n",
    "os.makedirs(f\"{base_dir}/output/emd\", exist_ok=True)\n",
    "output_dir = f\"{base_dir}/output/emd\"\n",
    "\n",
    "# NB: integrated dataframe can be accessed at <10.5281/zenodo.7586958>\n",
    "input_dir = \"/Users/xiaoqin/Dropbox/TAPE LAB/Manuscripts/Qin & Cardoso Rodriguez et al/SupplementaryMaterials/Data Share/CyTOFdataframes\""
   ]
  },
  {
   "cell_type": "code",
   "execution_count": 6,
   "metadata": {},
   "outputs": [],
   "source": [
    "# Generate full_panel and metadata_columns on the fly\n",
    "df = pd.read_csv(f\"{input_dir}/Ligand-Time-course_all-cells.csv\")\n",
    "df_columns = df.columns.values.tolist()\n",
    "column_filtered = list(\n",
    "    filter(lambda x: x not in non_marker, df_columns)\n",
    ")  # Exclude non-markers\n",
    "\n",
    "full_panel = [i for i in column_filtered if i[0].isdigit()]\n",
    "metadata_columns = list(filter(lambda x: x not in full_panel, column_filtered))\n"
   ]
  },
  {
   "cell_type": "code",
   "execution_count": null,
   "metadata": {},
   "outputs": [],
   "source": [
    "# EMD calculation\n",
    "time_points = [\"6h\", \"12h\", \"24h\", \"48h\"]\n",
    "\n",
    "for time_point in time_points:\n",
    "\n",
    "    subset_df = df.loc[df[\"time_point\"] == time_point]\n",
    "    subset_df = arcsinh_transf(subset_df, full_panel, 5)\n",
    "\n",
    "    emd_ref = subset_df.loc[\n",
    "        subset_df[\"culture\"] == f\"{time_point}_Ctrl\"\n",
    "    ]  # for each time point\n",
    "\n",
    "    # EMD calculation\n",
    "    emd_df = pd.DataFrame()\n",
    "    emd_df_master = pd.DataFrame()\n",
    "    emd_infodict = {}\n",
    "\n",
    "    # Get all experimental conditions for which EMD is going to be calculated\n",
    "    conditions = subset_df[\"condition\"].unique().tolist()\n",
    "    len(conditions)\n",
    "\n",
    "    # Compute EMD and compile the result in a master dataframe\n",
    "    for condition in conditions:\n",
    "        compare_from = subset_df.loc[subset_df[\"condition\"] == condition]\n",
    "\n",
    "        df_new = calculate_emd(\n",
    "            full_panel,  # all non-marker and non-metadata columns\n",
    "            compare_from,\n",
    "            emd_ref,  #!\n",
    "            metadata_columns,\n",
    "            emd_df,\n",
    "            emd_infodict,\n",
    "        )\n",
    "        emd_df_master = pd.concat([emd_df_master, df_new])\n",
    "\n",
    "    # Long to wide transformation\n",
    "    emd_df_master_wide = emd_df_master.pivot_table(\n",
    "        index=metadata_columns,\n",
    "        columns=\"marker\",\n",
    "        values=\"EMD_arc\",\n",
    "    ).reset_index()\n",
    "    emd_df_master_wide.to_csv(\n",
    "        f\"{output_dir}/emd_df_master_{time_point}_no-norm.csv\",\n",
    "        index=False,\n",
    "    )\n",
    "\n",
    "    # # Z-score normalisation\n",
    "    # # retrieve data and metadata\n",
    "    # emd_df_master_wide_metadata = emd_df_master_wide[metadata_columns].reset_index()\n",
    "    # emd_df_master_wide_data = master_df_subset(emd_df_master_wide, full_panel)\n",
    "\n",
    "    # # z-score\n",
    "    # emd_df_master_wide_data_scaled = emd_df_master_wide_data.apply(zscore).reset_index()\n",
    "    # emd_df_master_wide_data_scaled = pd.merge(\n",
    "    #     emd_df_master_wide_data_scaled, emd_df_master_wide_metadata, on=\"index\"\n",
    "    # )\n",
    "    # emd_df_master_wide_data_scaled.drop(columns=[\"index\"], inplace=True)\n",
    "    # emd_df_master_wide_data_scaled.to_csv(\n",
    "    #     f\"{output_dir}/emd/emd_df_master_{time_point}_z-score.csv\",\n",
    "    #     index=False,\n",
    "    # )"
   ]
  },
  {
   "cell_type": "code",
   "execution_count": null,
   "metadata": {},
   "outputs": [],
   "source": [
    "# Concatenate EMD scores\n",
    "for time_point in time_points:\n",
    "    emd_concat_nonorm = pd.DataFrame()\n",
    "    nonorm_dataset = [\n",
    "        f\n",
    "        for f in os.listdir(f\"{output_dir}\")\n",
    "        if f.startswith(\"emd_df_master\") and \"no-norm\" in f\n",
    "        # and \"TALL\" in f\n",
    "        and f.split(\"_\")[3] in time_points\n",
    "    ]\n",
    "    nonorm_dataset\n",
    "    for f in nonorm_dataset:\n",
    "        df = pd.read_csv(f\"{output_dir}/{f}\")\n",
    "        emd_concat_nonorm = pd.concat([emd_concat_nonorm, df])\n",
    "\n",
    "    emd_concat_nonorm.to_csv(\n",
    "        f\"{output_dir}/emd_df_master_concat_no-norm.csv\", index=False\n",
    "    )"
   ]
  }
 ],
 "metadata": {
  "kernelspec": {
   "display_name": "base",
   "language": "python",
   "name": "python3"
  },
  "language_info": {
   "codemirror_mode": {
    "name": "ipython",
    "version": 3
   },
   "file_extension": ".py",
   "mimetype": "text/x-python",
   "name": "python",
   "nbconvert_exporter": "python",
   "pygments_lexer": "ipython3",
   "version": "3.10.6"
  },
  "orig_nbformat": 4,
  "vscode": {
   "interpreter": {
    "hash": "c6e4e9f98eb68ad3b7c296f83d20e6de614cb42e90992a65aa266555a3137d0d"
   }
  }
 },
 "nbformat": 4,
 "nbformat_minor": 2
}
