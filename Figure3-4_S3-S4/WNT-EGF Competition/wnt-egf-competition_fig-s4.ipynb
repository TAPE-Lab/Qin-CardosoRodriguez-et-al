{
 "cells": [
  {
   "attachments": {},
   "cell_type": "markdown",
   "metadata": {},
   "source": [
    "# Data Integration\n",
    "\n",
    "The integration script is for reference only and the integrated dataframe can be downloaded with the link: %"
   ]
  },
  {
   "cell_type": "code",
   "execution_count": null,
   "metadata": {},
   "outputs": [],
   "source": [
    "# import os, re, sys\n",
    "# import fcsparser\n",
    "# import pandas as pd\n",
    "\n",
    "# sys.path.insert(0, '../..')\n",
    "# from scripts.aux_functions import *"
   ]
  },
  {
   "cell_type": "code",
   "execution_count": null,
   "metadata": {},
   "outputs": [],
   "source": [
    "# Import raw data\n",
    "# base_dir = \"/Users/xiaoqin/Dropbox/TAPE LAB/Manuscripts/Qin & Cardoso Rodriguez et al/SupplementaryMaterials/Qin-CardosoRodriguez-et-al_analysis/Figure3_4-S3_S4/WNT-EGF Competition\"\n",
    "# os.makedirs(f\"{base_dir}/output\", exist_ok=True)\n",
    "# input_dir = f\"{base_dir}/preprocessed_data\"\n",
    "# output_dir = f\"{base_dir}/output\"\n",
    "\n",
    "# filelist = [f for f in os.listdir(input_dir) if f.endswith(\".txt\")]\n",
    "# filelist\n"
   ]
  },
  {
   "cell_type": "code",
   "execution_count": null,
   "metadata": {},
   "outputs": [],
   "source": [
    "# ---\n",
    "# Integration\n",
    "# ---\n",
    "\n",
    "# Naming convention:\n",
    "# batch_experiment_barcode_reagent1-concentration1_reagent2-concentration2_replicate\n",
    "# e.g. \"B0_WNT-EGF_001_WNT-0_EGF-0_1.txt\"\n",
    "\n",
    "# integrated = pd.DataFrame()\n",
    "# for f in filelist:\n",
    "#     df_new = pd.read_csv(f\"{input_dir}/{f}\", sep=\"\\t\")\n",
    "#     df_new = df_new.rename(\n",
    "#         columns=lambda x: re.sub(\"_v[0-9]+$\", \"\", x)\n",
    "#     )  # Revome the version number etc.\n",
    "\n",
    "#     batch = f.split(\"_\")[0]\n",
    "#     barcode = f.split(\"_\")[2]\n",
    "\n",
    "#     treatment_1 = f.split(\"_\")[3]\n",
    "#     reagent_1 = treatment_1.split(\"-\")[0]\n",
    "#     concentration_1 = treatment_1.split(\"-\")[1]\n",
    "#     treatment_2 = f.split(\"_\")[4]\n",
    "#     reagent_2 = treatment_2.split(\"-\")[0]\n",
    "#     concentration_2 = treatment_2.split(\"-\")[1]\n",
    "\n",
    "#     replicate = f.split(\"_\")[-1].split(\".\")[0]\n",
    "\n",
    "#     df_new[\"batch\"] = batch\n",
    "#     df_new[\"barcode\"] = barcode\n",
    "\n",
    "#     df_new[\"treatment_1\"] = treatment_1\n",
    "#     df_new[\"reagent_1\"] = reagent_1\n",
    "#     df_new[\"concentration_1\"] = concentration_1\n",
    "#     df_new[\"treatment_2\"] = treatment_2\n",
    "#     df_new[\"reagent_2\"] = reagent_2\n",
    "#     df_new[\"concentration_2\"] = concentration_2\n",
    "\n",
    "#     df_new[\"replicate\"] = replicate\n",
    "#     df_new[\"culture\"] = treatment_1 + \"_\" + treatment_2\n",
    "#     df_new[\"condition\"] = treatment_1 + \"_\" + treatment_2 + \"_\" + replicate\n",
    "\n",
    "#     # WNT/EGF concentration\n",
    "#     if reagent_1 == \"WNT\":\n",
    "#         WNT = treatment_1\n",
    "#         WNT_conc = int(concentration_1)\n",
    "#     elif reagent_2 == \"WNT\":\n",
    "#         WNT = treatment_2\n",
    "#         WNT_conc = int(concentration_2)\n",
    "#     else:\n",
    "#         WNT = \"WNT-0\"\n",
    "#         WNT_conc = 0\n",
    "#     df_new[\"WNT\"] = WNT\n",
    "#     df_new[\"WNT_Conc\"] = WNT_conc\n",
    "\n",
    "#     if reagent_1 == \"EGF\":\n",
    "#         EGF = treatment_1\n",
    "#         EGF_conc = int(concentration_1)\n",
    "#     elif reagent_2 == \"EGF\":\n",
    "#         EGF = treatment_2\n",
    "#         EGF_conc = int(concentration_2)\n",
    "#     else:\n",
    "#         EGF = \"EGF-0\"\n",
    "#         EGF_conc = 0\n",
    "#     df_new[\"EGF\"] = EGF\n",
    "#     df_new[\"EGF_Conc\"] = EGF_conc\n",
    "\n",
    "#     df_new[\"WNT_EGF_Ratio\"] = WNT_conc / EGF_conc if (EGF_conc != 0) else \"-\"\n",
    "#     df_new[\"EGF_WNT_Ratio\"] = EGF_conc / WNT_conc if (WNT_conc != 0) else \"-\"\n",
    "\n",
    "#     integrated = pd.concat([integrated, df_new])\n",
    "# integrated.head()\n",
    "# integrated.shape\n",
    "\n",
    "# integrated.columns.values\n",
    "# integrated.to_csv(f\"{output_dir}/integrated_dataframe_all-cells.csv\", index=False)\n"
   ]
  },
  {
   "attachments": {},
   "cell_type": "markdown",
   "metadata": {},
   "source": [
    "# EMD Calculation"
   ]
  },
  {
   "cell_type": "code",
   "execution_count": 2,
   "metadata": {},
   "outputs": [],
   "source": [
    "import os, sys\n",
    "import pandas as pd\n",
    "import scprep\n",
    "from scipy.stats import zscore\n",
    "\n",
    "sys.path.insert(0, \"../..\")\n",
    "from scripts.aux_functions import *\n",
    "from scripts.__init__ import non_marker"
   ]
  },
  {
   "cell_type": "code",
   "execution_count": 3,
   "metadata": {},
   "outputs": [],
   "source": [
    "# Import data\n",
    "base_dir = \"/Users/xiaoqin/Dropbox/TAPE LAB/Manuscripts/Qin & Cardoso Rodriguez et al/SupplementaryMaterials/Qin-CardosoRodriguez-et-al_analysis/Figure2_3-S3_S4/WNT-EGF Competition\"\n",
    "os.makedirs(f\"{base_dir}/output/emd\", exist_ok=True)\n",
    "output_dir = f\"{base_dir}/output/emd\"\n",
    "\n",
    "# NB: integrated dataframe can be accessed at <10.5281/zenodo.7586958>\n",
    "input_dir = \"/Users/xiaoqin/Dropbox/TAPE LAB/Manuscripts/Qin & Cardoso Rodriguez et al/SupplementaryMaterials/Data Share/CyTOFdataframes\""
   ]
  },
  {
   "cell_type": "code",
   "execution_count": 4,
   "metadata": {},
   "outputs": [],
   "source": [
    "# Generate full_panel and metadata_columns on the fly\n",
    "df = pd.read_csv(f\"{input_dir}/WNT-EGF-Competition_all-cells.csv\")\n",
    "df_columns = df.columns.values.tolist()\n",
    "column_filtered = list(\n",
    "    filter(lambda x: x not in non_marker, df_columns)\n",
    ")  # Exclude non-markers\n",
    "\n",
    "full_panel = [i for i in column_filtered if i[0].isdigit()]\n",
    "metadata_columns = list(filter(lambda x: x not in full_panel, column_filtered))\n",
    "\n",
    "# EMD calculation\n",
    "# Import raw data and perform arcsinh transformation\n",
    "subset = \"all-cells\"\n",
    "subset_df = pd.read_csv(f\"{input_dir}/WNT-EGF-Competition_{subset}.csv\")\n",
    "# Arcsinh transformation\n",
    "subset_df = arcsinh_transf(subset_df, full_panel, 5)\n",
    "\n",
    "#! Set reference for EMD calculation\n",
    "emd_ref = subset_df.loc[subset_df[\"culture\"] == f\"WNT-0_EGF-0\"]  # for all cells\n",
    "\n",
    "# EMD calculation\n",
    "emd_df = pd.DataFrame()\n",
    "emd_df_master = pd.DataFrame()\n",
    "emd_infodict = {}\n",
    "\n",
    "# Get all experimental conditions for which EMD is going to be calculated\n",
    "conditions = subset_df[\"condition\"].unique().tolist()\n",
    "len(conditions)\n",
    "\n",
    "\n",
    "# Compute EMD and compile the result in a master dataframe\n",
    "for condition in conditions:\n",
    "    compare_from = subset_df.loc[subset_df[\"condition\"] == condition]\n",
    "    df = calculate_emd(\n",
    "        full_panel,  # all antibody measurements\n",
    "        compare_from,\n",
    "        emd_ref,  #!\n",
    "        metadata_columns,\n",
    "        emd_df,\n",
    "        emd_infodict,\n",
    "    )\n",
    "    emd_df_master = pd.concat([emd_df_master, df])\n",
    "emd_df_master.head()\n",
    "\n",
    "\n",
    "# Long to wide transformation\n",
    "emd_df_master_wide = emd_df_master.pivot_table(\n",
    "    index=metadata_columns,\n",
    "    columns=\"marker\",\n",
    "    values=\"EMD_arc\",\n",
    ").reset_index()\n",
    "\n",
    "emd_df_master_wide.head()\n",
    "emd_df_master_wide.to_csv(\n",
    "    f\"{output_dir}/emd_df_master_{subset}_no-norm.csv\",\n",
    "    index=False,\n",
    ")"
   ]
  },
  {
   "attachments": {},
   "cell_type": "markdown",
   "metadata": {},
   "source": [
    "# EMD-PHATE: WNT-EGF Gradient"
   ]
  },
  {
   "cell_type": "code",
   "execution_count": 5,
   "metadata": {},
   "outputs": [
    {
     "data": {
      "application/javascript": "\n            setTimeout(function() {\n                var nbb_cell_id = 5;\n                var nbb_unformatted_code = \"import os, sys\\nimport pandas as pd\\nimport numpy as np\\nimport phate\\nimport seaborn as sns\\nimport matplotlib.pyplot as plt\\nfrom sklearn.decomposition import PCA\\n%matplotlib inline\\nimport warnings\\nwarnings.filterwarnings('ignore')\\n\\nsys.path.insert(0, '../..') # Add the script folder to the path\\nfrom scripts.aux_functions import *\\nfrom scripts import colours\\n\\nfrom IPython.core.interactiveshell import InteractiveShell\\n%load_ext nb_black\";\n                var nbb_formatted_code = \"import os, sys\\nimport pandas as pd\\nimport numpy as np\\nimport phate\\nimport seaborn as sns\\nimport matplotlib.pyplot as plt\\nfrom sklearn.decomposition import PCA\\n\\n%matplotlib inline\\nimport warnings\\n\\nwarnings.filterwarnings(\\\"ignore\\\")\\n\\nsys.path.insert(0, \\\"../..\\\")  # Add the script folder to the path\\nfrom scripts.aux_functions import *\\nfrom scripts import colours\\n\\nfrom IPython.core.interactiveshell import InteractiveShell\\n\\n%load_ext nb_black\";\n                var nbb_cells = Jupyter.notebook.get_cells();\n                for (var i = 0; i < nbb_cells.length; ++i) {\n                    if (nbb_cells[i].input_prompt_number == nbb_cell_id) {\n                        if (nbb_cells[i].get_text() == nbb_unformatted_code) {\n                             nbb_cells[i].set_text(nbb_formatted_code);\n                        }\n                        break;\n                    }\n                }\n            }, 500);\n            ",
      "text/plain": [
       "<IPython.core.display.Javascript object>"
      ]
     },
     "metadata": {},
     "output_type": "display_data"
    }
   ],
   "source": [
    "import os, sys\n",
    "import pandas as pd\n",
    "import numpy as np\n",
    "import phate\n",
    "import seaborn as sns\n",
    "import matplotlib.pyplot as plt\n",
    "from sklearn.decomposition import PCA\n",
    "%matplotlib inline\n",
    "import warnings\n",
    "warnings.filterwarnings('ignore')\n",
    "\n",
    "sys.path.insert(0, '../..') # Add the script folder to the path\n",
    "from scripts.aux_functions import *\n",
    "from scripts import colours\n",
    "\n",
    "from IPython.core.interactiveshell import InteractiveShell\n",
    "%load_ext nb_black"
   ]
  },
  {
   "cell_type": "code",
   "execution_count": 7,
   "metadata": {},
   "outputs": [
    {
     "data": {
      "text/plain": [
       "{'EGF-10_WNT-0',\n",
       " 'EGF-25_WNT-0',\n",
       " 'EGF-40_WNT-0',\n",
       " 'EGF-50_WNT-0',\n",
       " 'WNT-0_EGF-0',\n",
       " 'WNT-100_EGF-0',\n",
       " 'WNT-10_EGF-0',\n",
       " 'WNT-20_EGF-0',\n",
       " 'WNT-50_EGF-0'}"
      ]
     },
     "execution_count": 7,
     "metadata": {},
     "output_type": "execute_result"
    },
    {
     "data": {
      "application/javascript": "\n            setTimeout(function() {\n                var nbb_cell_id = 7;\n                var nbb_unformatted_code = \"# Import data\\nbase_dir = \\\"/Users/xiaoqin/Dropbox/TAPE LAB/Manuscripts/Qin & Cardoso Rodriguez et al/SupplementaryMaterials/Qin-CardosoRodriguez-et-al_analysis/Figure2_3-S3_S4/WNT-EGF Competition\\\"\\ninput_dir = f\\\"{base_dir}/output/emd\\\"\\noutput_dir = f\\\"{base_dir}/output/\\\"\\n\\n# Set experimental metadata\\nsubset = \\\"all-cells\\\"\\nnorm = \\\"no-norm\\\" # no-norm\\n\\nemd_df_master_wide = pd.read_csv(f\\\"{input_dir}/emd_df_master_{subset}_{norm}.csv\\\")\\nemd_df_master_wide = emd_df_master_wide[\\n    (emd_df_master_wide[\\\"WNT\\\"] == \\\"WNT-0\\\") | (emd_df_master_wide[\\\"EGF\\\"] == \\\"EGF-0\\\")\\n]  # Keep WNT only or EGF only conditions\\n\\nset(emd_df_master_wide[\\\"culture\\\"])\";\n                var nbb_formatted_code = \"# Import data\\nbase_dir = \\\"/Users/xiaoqin/Dropbox/TAPE LAB/Manuscripts/Qin & Cardoso Rodriguez et al/SupplementaryMaterials/Qin-CardosoRodriguez-et-al_analysis/Figure2_3-S3_S4/WNT-EGF Competition\\\"\\ninput_dir = f\\\"{base_dir}/output/emd\\\"\\noutput_dir = f\\\"{base_dir}/output/\\\"\\n\\n# Set experimental metadata\\nsubset = \\\"all-cells\\\"\\nnorm = \\\"no-norm\\\"  # no-norm\\n\\nemd_df_master_wide = pd.read_csv(f\\\"{input_dir}/emd_df_master_{subset}_{norm}.csv\\\")\\nemd_df_master_wide = emd_df_master_wide[\\n    (emd_df_master_wide[\\\"WNT\\\"] == \\\"WNT-0\\\") | (emd_df_master_wide[\\\"EGF\\\"] == \\\"EGF-0\\\")\\n]  # Keep WNT only or EGF only conditions\\n\\nset(emd_df_master_wide[\\\"culture\\\"])\";\n                var nbb_cells = Jupyter.notebook.get_cells();\n                for (var i = 0; i < nbb_cells.length; ++i) {\n                    if (nbb_cells[i].input_prompt_number == nbb_cell_id) {\n                        if (nbb_cells[i].get_text() == nbb_unformatted_code) {\n                             nbb_cells[i].set_text(nbb_formatted_code);\n                        }\n                        break;\n                    }\n                }\n            }, 500);\n            ",
      "text/plain": [
       "<IPython.core.display.Javascript object>"
      ]
     },
     "metadata": {},
     "output_type": "display_data"
    }
   ],
   "source": [
    "# Import data\n",
    "base_dir = \"/Users/xiaoqin/Dropbox/TAPE LAB/Manuscripts/Qin & Cardoso Rodriguez et al/SupplementaryMaterials/Qin-CardosoRodriguez-et-al_analysis/Figure2_3-S3_S4/WNT-EGF Competition\"\n",
    "input_dir = f\"{base_dir}/output/emd\"\n",
    "output_dir = f\"{base_dir}/output/\"\n",
    "\n",
    "# Set experimental metadata\n",
    "subset = \"all-cells\"\n",
    "norm = \"no-norm\" # no-norm\n",
    "\n",
    "emd_df_master_wide = pd.read_csv(f\"{input_dir}/emd_df_master_{subset}_{norm}.csv\")\n",
    "emd_df_master_wide = emd_df_master_wide[\n",
    "    (emd_df_master_wide[\"WNT\"] == \"WNT-0\") | (emd_df_master_wide[\"EGF\"] == \"EGF-0\")\n",
    "]  # Keep WNT only or EGF only conditions\n",
    "\n",
    "set(emd_df_master_wide[\"culture\"])\n"
   ]
  },
  {
   "cell_type": "code",
   "execution_count": 8,
   "metadata": {},
   "outputs": [
    {
     "data": {
      "application/javascript": "\n            setTimeout(function() {\n                var nbb_cell_id = 8;\n                var nbb_unformatted_code = \"# Define markers used for PCA\\ndr_panel = [\\n    # cell-type\\n    \\\"111Cd_CD44\\\",\\n    # \\\"113In_CEACAM1_CD66a\\\",\\n    # \\\"115In_Pan-CK\\\",\\n    # \\\"116Cd_GFP\\\",\\n    \\\"143Nd_C-MYC_1\\\",\\n    \\\"162Dy_LRIG1_1\\\",\\n    \\\"169Tm_EPHB2\\\",\\n    \\\"171Yb_SOX9_5\\\",\\n    \\\"174Yb_Clusterin_1\\\",\\n    \\\"175Lu_Survivin_2\\\",\\n    \\\"176Yb_FABP2\\\",\\n]\\n\\ndr_matrix = master_df_subset(emd_df_master_wide, dr_panel)\\n\\n#---\\n# PHATE\\n#---\\n\\nphate_operator = phate.PHATE(\\n    knn=10, t=5, random_state=42, mds_solver=\\\"smacof\\\", verbose=False\\n)\\nY_phate = phate_operator.fit_transform(dr_matrix)\\n\\n# Join PHATE coordinates with EMD dataframe\\nY_phate_df = pd.DataFrame(Y_phate).reset_index()\\nemd_df_master_wide = emd_df_master_wide.reset_index(drop=True).reset_index()\\nY_phate_df = pd.merge(emd_df_master_wide, Y_phate_df, on=\\\"index\\\")\\nY_phate_df.drop(columns=[\\\"index\\\"], inplace=True)\\nemd_df_master_wide.drop(columns=\\\"index\\\", inplace=True)\\n\\n# Adjust the plotting order\\nY_phate_df_control = Y_phate_df.loc[Y_phate_df[\\\"culture\\\"] == \\\"WNT-0_EGF-0\\\"]\\nY_phate_df_egf = Y_phate_df.loc[Y_phate_df[\\\"culture\\\"] == \\\"EGF-50_WNT-0\\\"]\\nY_phate_df_wnt = Y_phate_df.loc[Y_phate_df[\\\"culture\\\"] == \\\"WNT-100_EGF-0\\\"]\\n\\nY_phate_df_other = Y_phate_df.loc[\\n    -Y_phate_df[\\\"culture\\\"].isin([\\\"WNT-0_EGF-0\\\", \\\"EGF-50_WNT-0\\\", \\\"WNT-100_EGF-0\\\"])\\n]\\nY_phate_df = pd.concat(\\n    [Y_phate_df_other, Y_phate_df_egf, Y_phate_df_wnt, Y_phate_df_control]\\n)\";\n                var nbb_formatted_code = \"# Define markers used for PCA\\ndr_panel = [\\n    # cell-type\\n    \\\"111Cd_CD44\\\",\\n    # \\\"113In_CEACAM1_CD66a\\\",\\n    # \\\"115In_Pan-CK\\\",\\n    # \\\"116Cd_GFP\\\",\\n    \\\"143Nd_C-MYC_1\\\",\\n    \\\"162Dy_LRIG1_1\\\",\\n    \\\"169Tm_EPHB2\\\",\\n    \\\"171Yb_SOX9_5\\\",\\n    \\\"174Yb_Clusterin_1\\\",\\n    \\\"175Lu_Survivin_2\\\",\\n    \\\"176Yb_FABP2\\\",\\n]\\n\\ndr_matrix = master_df_subset(emd_df_master_wide, dr_panel)\\n\\n# ---\\n# PHATE\\n# ---\\n\\nphate_operator = phate.PHATE(\\n    knn=10, t=5, random_state=42, mds_solver=\\\"smacof\\\", verbose=False\\n)\\nY_phate = phate_operator.fit_transform(dr_matrix)\\n\\n# Join PHATE coordinates with EMD dataframe\\nY_phate_df = pd.DataFrame(Y_phate).reset_index()\\nemd_df_master_wide = emd_df_master_wide.reset_index(drop=True).reset_index()\\nY_phate_df = pd.merge(emd_df_master_wide, Y_phate_df, on=\\\"index\\\")\\nY_phate_df.drop(columns=[\\\"index\\\"], inplace=True)\\nemd_df_master_wide.drop(columns=\\\"index\\\", inplace=True)\\n\\n# Adjust the plotting order\\nY_phate_df_control = Y_phate_df.loc[Y_phate_df[\\\"culture\\\"] == \\\"WNT-0_EGF-0\\\"]\\nY_phate_df_egf = Y_phate_df.loc[Y_phate_df[\\\"culture\\\"] == \\\"EGF-50_WNT-0\\\"]\\nY_phate_df_wnt = Y_phate_df.loc[Y_phate_df[\\\"culture\\\"] == \\\"WNT-100_EGF-0\\\"]\\n\\nY_phate_df_other = Y_phate_df.loc[\\n    -Y_phate_df[\\\"culture\\\"].isin([\\\"WNT-0_EGF-0\\\", \\\"EGF-50_WNT-0\\\", \\\"WNT-100_EGF-0\\\"])\\n]\\nY_phate_df = pd.concat(\\n    [Y_phate_df_other, Y_phate_df_egf, Y_phate_df_wnt, Y_phate_df_control]\\n)\";\n                var nbb_cells = Jupyter.notebook.get_cells();\n                for (var i = 0; i < nbb_cells.length; ++i) {\n                    if (nbb_cells[i].input_prompt_number == nbb_cell_id) {\n                        if (nbb_cells[i].get_text() == nbb_unformatted_code) {\n                             nbb_cells[i].set_text(nbb_formatted_code);\n                        }\n                        break;\n                    }\n                }\n            }, 500);\n            ",
      "text/plain": [
       "<IPython.core.display.Javascript object>"
      ]
     },
     "metadata": {},
     "output_type": "display_data"
    }
   ],
   "source": [
    "# Define markers used for PCA\n",
    "dr_panel = [\n",
    "    # cell-type\n",
    "    \"111Cd_CD44\",\n",
    "    # \"113In_CEACAM1_CD66a\",\n",
    "    # \"115In_Pan-CK\",\n",
    "    # \"116Cd_GFP\",\n",
    "    \"143Nd_C-MYC_1\",\n",
    "    \"162Dy_LRIG1_1\",\n",
    "    \"169Tm_EPHB2\",\n",
    "    \"171Yb_SOX9_5\",\n",
    "    \"174Yb_Clusterin_1\",\n",
    "    \"175Lu_Survivin_2\",\n",
    "    \"176Yb_FABP2\",\n",
    "]\n",
    "\n",
    "dr_matrix = master_df_subset(emd_df_master_wide, dr_panel)\n",
    "\n",
    "#---\n",
    "# PHATE\n",
    "#---\n",
    "\n",
    "phate_operator = phate.PHATE(\n",
    "    knn=10, t=5, random_state=42, mds_solver=\"smacof\", verbose=False\n",
    ")\n",
    "Y_phate = phate_operator.fit_transform(dr_matrix)\n",
    "\n",
    "# Join PHATE coordinates with EMD dataframe\n",
    "Y_phate_df = pd.DataFrame(Y_phate).reset_index()\n",
    "emd_df_master_wide = emd_df_master_wide.reset_index(drop=True).reset_index()\n",
    "Y_phate_df = pd.merge(emd_df_master_wide, Y_phate_df, on=\"index\")\n",
    "Y_phate_df.drop(columns=[\"index\"], inplace=True)\n",
    "emd_df_master_wide.drop(columns=\"index\", inplace=True)\n",
    "\n",
    "# Adjust the plotting order\n",
    "Y_phate_df_control = Y_phate_df.loc[Y_phate_df[\"culture\"] == \"WNT-0_EGF-0\"]\n",
    "Y_phate_df_egf = Y_phate_df.loc[Y_phate_df[\"culture\"] == \"EGF-50_WNT-0\"]\n",
    "Y_phate_df_wnt = Y_phate_df.loc[Y_phate_df[\"culture\"] == \"WNT-100_EGF-0\"]\n",
    "\n",
    "Y_phate_df_other = Y_phate_df.loc[\n",
    "    -Y_phate_df[\"culture\"].isin([\"WNT-0_EGF-0\", \"EGF-50_WNT-0\", \"WNT-100_EGF-0\"])\n",
    "]\n",
    "Y_phate_df = pd.concat(\n",
    "    [Y_phate_df_other, Y_phate_df_egf, Y_phate_df_wnt, Y_phate_df_control]\n",
    ")"
   ]
  },
  {
   "attachments": {},
   "cell_type": "markdown",
   "metadata": {},
   "source": [
    "## WNT-EGF Gradient"
   ]
  },
  {
   "cell_type": "code",
   "execution_count": 9,
   "metadata": {},
   "outputs": [
    {
     "data": {
      "text/plain": [
       "(-0.23328256869056463,\n",
       " 0.2590468298913552,\n",
       " -0.04827928467580511,\n",
       " 0.0765997137155742)"
      ]
     },
     "execution_count": 9,
     "metadata": {},
     "output_type": "execute_result"
    },
    {
     "data": {
      "image/png": "[encoded data removed]",
      "text/plain": [
       "<Figure size 180x180 with 1 Axes>"
      ]
     },
     "metadata": {},
     "output_type": "display_data"
    },
    {
     "data": {
      "application/javascript": "\n            setTimeout(function() {\n                var nbb_cell_id = 9;\n                var nbb_unformatted_code = \"fig, ax = plt.subplots(1,1, figsize=(1.8, 1.8))\\nfig = scprep.plot.scatter2d(\\n    Y_phate_df.iloc[:, -2:],\\n    c=Y_phate_df.loc[:, \\\"culture\\\"],\\n    cmap=colours,\\n    ticks=True,\\n    s=5,\\n    label_prefix=\\\"PHATE\\\",\\n    legend=False,\\n    fontsize=7,\\n    ax=ax,\\n)\\nfig.axis(\\\"off\\\")\";\n                var nbb_formatted_code = \"fig, ax = plt.subplots(1, 1, figsize=(1.8, 1.8))\\nfig = scprep.plot.scatter2d(\\n    Y_phate_df.iloc[:, -2:],\\n    c=Y_phate_df.loc[:, \\\"culture\\\"],\\n    cmap=colours,\\n    ticks=True,\\n    s=5,\\n    label_prefix=\\\"PHATE\\\",\\n    legend=False,\\n    fontsize=7,\\n    ax=ax,\\n)\\nfig.axis(\\\"off\\\")\";\n                var nbb_cells = Jupyter.notebook.get_cells();\n                for (var i = 0; i < nbb_cells.length; ++i) {\n                    if (nbb_cells[i].input_prompt_number == nbb_cell_id) {\n                        if (nbb_cells[i].get_text() == nbb_unformatted_code) {\n                             nbb_cells[i].set_text(nbb_formatted_code);\n                        }\n                        break;\n                    }\n                }\n            }, 500);\n            ",
      "text/plain": [
       "<IPython.core.display.Javascript object>"
      ]
     },
     "metadata": {},
     "output_type": "display_data"
    }
   ],
   "source": [
    "fig, ax = plt.subplots(1,1, figsize=(1.8, 1.8))\n",
    "fig = scprep.plot.scatter2d(\n",
    "    Y_phate_df.iloc[:, -2:],\n",
    "    c=Y_phate_df.loc[:, \"culture\"],\n",
    "    cmap=colours,\n",
    "    ticks=True,\n",
    "    s=5,\n",
    "    label_prefix=\"PHATE\",\n",
    "    legend=False,\n",
    "    fontsize=7,\n",
    "    ax=ax,\n",
    ")\n",
    "fig.axis(\"off\")"
   ]
  },
  {
   "attachments": {},
   "cell_type": "markdown",
   "metadata": {},
   "source": [
    "## CLU, SURVIVIN, Pan-CK, and pRB [S801/811]"
   ]
  },
  {
   "cell_type": "code",
   "execution_count": 10,
   "metadata": {},
   "outputs": [
    {
     "data": {
      "image/png": "[encoded data removed]",
      "text/plain": [
       "<Figure size 180x180 with 1 Axes>"
      ]
     },
     "metadata": {},
     "output_type": "display_data"
    },
    {
     "data": {
      "image/png": "[encoded data removed]",
      "text/plain": [
       "<Figure size 180x180 with 1 Axes>"
      ]
     },
     "metadata": {},
     "output_type": "display_data"
    },
    {
     "data": {
      "image/png": "[encoded data removed]",
      "text/plain": [
       "<Figure size 180x180 with 1 Axes>"
      ]
     },
     "metadata": {},
     "output_type": "display_data"
    },
    {
     "data": {
      "image/png": "[encoded data removed]",
      "text/plain": [
       "<Figure size 180x180 with 1 Axes>"
      ]
     },
     "metadata": {},
     "output_type": "display_data"
    },
    {
     "data": {
      "application/javascript": "\n            setTimeout(function() {\n                var nbb_cell_id = 10;\n                var nbb_unformatted_code = \"for marker in [\\\"174Yb_Clusterin_1\\\", \\\"175Lu_Survivin_2\\\", \\\"115In_Pan-CK\\\", \\\"150Nd_pRB_S807_S811\\\"]:\\n    fig, ax = plt.subplots(1, 1, figsize=(1.8, 1.8))\\n    fig = scprep.plot.scatter2d(\\n        Y_phate_df.iloc[:, -2:],\\n        c=Y_phate_df.loc[:, marker],\\n        cmap=sns.color_palette(\\\"Spectral_r\\\", as_cmap=True),\\n        ticks=False,\\n        s=5,\\n        # xlabel=f\\\"PC1_{pc1}%\\\",\\n        # ylabel=f\\\"PC2_{pc2}%\\\",\\n        xlabel=\\\"\\\",\\n        ylabel=\\\"\\\",\\n        legend=False,\\n        title=marker,\\n        fontsize=5,\\n        # legend_ncol=2,\\n        ax=ax,\\n    )\\n    fig.axis(\\\"off\\\")\\n    # plt.savefig(\\n    #     f\\\"{output_dir}/EMD-PHATE_WNT-EGF-Gradient_{marker}.pdf\\\",\\n    #     bbox_inches=\\\"tight\\\",\\n    #     )\";\n                var nbb_formatted_code = \"for marker in [\\n    \\\"174Yb_Clusterin_1\\\",\\n    \\\"175Lu_Survivin_2\\\",\\n    \\\"115In_Pan-CK\\\",\\n    \\\"150Nd_pRB_S807_S811\\\",\\n]:\\n    fig, ax = plt.subplots(1, 1, figsize=(1.8, 1.8))\\n    fig = scprep.plot.scatter2d(\\n        Y_phate_df.iloc[:, -2:],\\n        c=Y_phate_df.loc[:, marker],\\n        cmap=sns.color_palette(\\\"Spectral_r\\\", as_cmap=True),\\n        ticks=False,\\n        s=5,\\n        # xlabel=f\\\"PC1_{pc1}%\\\",\\n        # ylabel=f\\\"PC2_{pc2}%\\\",\\n        xlabel=\\\"\\\",\\n        ylabel=\\\"\\\",\\n        legend=False,\\n        title=marker,\\n        fontsize=5,\\n        # legend_ncol=2,\\n        ax=ax,\\n    )\\n    fig.axis(\\\"off\\\")\\n    # plt.savefig(\\n    #     f\\\"{output_dir}/EMD-PHATE_WNT-EGF-Gradient_{marker}.pdf\\\",\\n    #     bbox_inches=\\\"tight\\\",\\n    #     )\";\n                var nbb_cells = Jupyter.notebook.get_cells();\n                for (var i = 0; i < nbb_cells.length; ++i) {\n                    if (nbb_cells[i].input_prompt_number == nbb_cell_id) {\n                        if (nbb_cells[i].get_text() == nbb_unformatted_code) {\n                             nbb_cells[i].set_text(nbb_formatted_code);\n                        }\n                        break;\n                    }\n                }\n            }, 500);\n            ",
      "text/plain": [
       "<IPython.core.display.Javascript object>"
      ]
     },
     "metadata": {},
     "output_type": "display_data"
    }
   ],
   "source": [
    "for marker in [\"174Yb_Clusterin_1\", \"175Lu_Survivin_2\", \"115In_Pan-CK\", \"150Nd_pRB_S807_S811\"]:\n",
    "    fig, ax = plt.subplots(1, 1, figsize=(1.8, 1.8))\n",
    "    fig = scprep.plot.scatter2d(\n",
    "        Y_phate_df.iloc[:, -2:],\n",
    "        c=Y_phate_df.loc[:, marker],\n",
    "        cmap=sns.color_palette(\"Spectral_r\", as_cmap=True),\n",
    "        ticks=False,\n",
    "        s=5,\n",
    "        # xlabel=f\"PC1_{pc1}%\",\n",
    "        # ylabel=f\"PC2_{pc2}%\",\n",
    "        xlabel=\"\",\n",
    "        ylabel=\"\",\n",
    "        legend=False,\n",
    "        title=marker,\n",
    "        fontsize=5,\n",
    "        # legend_ncol=2,\n",
    "        ax=ax,\n",
    "    )\n",
    "    fig.axis(\"off\")\n",
    "    # plt.savefig(\n",
    "    #     f\"{output_dir}/EMD-PHATE_WNT-EGF-Gradient_{marker}.pdf\",\n",
    "    #     bbox_inches=\"tight\",\n",
    "    #     )\n"
   ]
  },
  {
   "attachments": {},
   "cell_type": "markdown",
   "metadata": {},
   "source": [
    "# EMD-PHATE: WNT-EGF Competition"
   ]
  },
  {
   "cell_type": "code",
   "execution_count": 11,
   "metadata": {},
   "outputs": [
    {
     "name": "stdout",
     "output_type": "stream",
     "text": [
      "The nb_black extension is already loaded. To reload it, use:\n",
      "  %reload_ext nb_black\n"
     ]
    },
    {
     "data": {
      "application/javascript": "\n            setTimeout(function() {\n                var nbb_cell_id = 11;\n                var nbb_unformatted_code = \"import os, sys\\nimport pandas as pd\\nimport numpy as np\\nimport phate\\nimport seaborn as sns\\nimport matplotlib.pyplot as plt\\nfrom sklearn.decomposition import PCA\\n%matplotlib inline\\nimport warnings\\nwarnings.filterwarnings('ignore')\\n\\nsys.path.insert(0, '../..') # Add the script folder to the path\\nfrom scripts.aux_functions import *\\nfrom scripts import colours\\n\\nfrom IPython.core.interactiveshell import InteractiveShell\\n%load_ext nb_black\";\n                var nbb_formatted_code = \"import os, sys\\nimport pandas as pd\\nimport numpy as np\\nimport phate\\nimport seaborn as sns\\nimport matplotlib.pyplot as plt\\nfrom sklearn.decomposition import PCA\\n\\n%matplotlib inline\\nimport warnings\\n\\nwarnings.filterwarnings(\\\"ignore\\\")\\n\\nsys.path.insert(0, \\\"../..\\\")  # Add the script folder to the path\\nfrom scripts.aux_functions import *\\nfrom scripts import colours\\n\\nfrom IPython.core.interactiveshell import InteractiveShell\\n\\n%load_ext nb_black\";\n                var nbb_cells = Jupyter.notebook.get_cells();\n                for (var i = 0; i < nbb_cells.length; ++i) {\n                    if (nbb_cells[i].input_prompt_number == nbb_cell_id) {\n                        if (nbb_cells[i].get_text() == nbb_unformatted_code) {\n                             nbb_cells[i].set_text(nbb_formatted_code);\n                        }\n                        break;\n                    }\n                }\n            }, 500);\n            ",
      "text/plain": [
       "<IPython.core.display.Javascript object>"
      ]
     },
     "metadata": {},
     "output_type": "display_data"
    }
   ],
   "source": [
    "import os, sys\n",
    "import pandas as pd\n",
    "import numpy as np\n",
    "import phate\n",
    "import seaborn as sns\n",
    "import matplotlib.pyplot as plt\n",
    "from sklearn.decomposition import PCA\n",
    "%matplotlib inline\n",
    "import warnings\n",
    "warnings.filterwarnings('ignore')\n",
    "\n",
    "sys.path.insert(0, '../..') # Add the script folder to the path\n",
    "from scripts.aux_functions import *\n",
    "from scripts import colours\n",
    "\n",
    "from IPython.core.interactiveshell import InteractiveShell\n",
    "%load_ext nb_black"
   ]
  },
  {
   "cell_type": "code",
   "execution_count": 12,
   "metadata": {},
   "outputs": [
    {
     "data": {
      "application/javascript": "\n            setTimeout(function() {\n                var nbb_cell_id = 12;\n                var nbb_unformatted_code = \"# Import data\\nbase_dir = \\\"/Users/xiaoqin/Dropbox/TAPE LAB/Manuscripts/Qin & Cardoso Rodriguez et al/SupplementaryMaterials/Qin-CardosoRodriguez-et-al_analysis/Figure2_3-S3_S4/WNT-EGF Competition\\\"\\ninput_dir = f\\\"{base_dir}/output/emd\\\"\\noutput_dir = f\\\"{base_dir}/output/\\\"\\n\\n# Set experimental metadata\\nsubset = \\\"all-cells\\\"\\nnorm = \\\"no-norm\\\" # no-norm\\n\\nemd_df_master_wide = pd.read_csv(f\\\"{input_dir}/emd_df_master_{subset}_{norm}.csv\\\")\\nemd_df_master_wide_extreme = emd_df_master_wide[\\n    (emd_df_master_wide[\\\"culture\\\"] == \\\"WNT-100_EGF-0\\\")\\n    | (emd_df_master_wide[\\\"culture\\\"] == \\\"EGF-50_WNT-0\\\")\\n    | (emd_df_master_wide[\\\"culture\\\"] == \\\"WNT-0_EGF-0\\\")\\n]  # Controls and WNT/EGF mono treatments\\nemd_df_master_wide = emd_df_master_wide[\\n    (emd_df_master_wide[\\\"WNT_EGF_Ratio\\\"] != \\\"-\\\")\\n    & (emd_df_master_wide[\\\"EGF_WNT_Ratio\\\"] != \\\"-\\\")\\n]  # Removes WNT/EGF mono treatments\\nemd_df_master_wide = pd.concat([emd_df_master_wide_extreme, emd_df_master_wide])\\n\\nfor i, r in emd_df_master_wide.iterrows():\\n    if (r[\\\"WNT\\\"] == \\\"WNT-0\\\") & (r[\\\"EGF\\\"] == \\\"EGF-0\\\"):\\n        emd_df_master_wide.at[\\n            i, \\\"EGF_WNT_Ratio\\\"\\n        ] = \\\"--\\\"  # Label controls for colour palette\";\n                var nbb_formatted_code = \"# Import data\\nbase_dir = \\\"/Users/xiaoqin/Dropbox/TAPE LAB/Manuscripts/Qin & Cardoso Rodriguez et al/SupplementaryMaterials/Qin-CardosoRodriguez-et-al_analysis/Figure2_3-S3_S4/WNT-EGF Competition\\\"\\ninput_dir = f\\\"{base_dir}/output/emd\\\"\\noutput_dir = f\\\"{base_dir}/output/\\\"\\n\\n# Set experimental metadata\\nsubset = \\\"all-cells\\\"\\nnorm = \\\"no-norm\\\"  # no-norm\\n\\nemd_df_master_wide = pd.read_csv(f\\\"{input_dir}/emd_df_master_{subset}_{norm}.csv\\\")\\nemd_df_master_wide_extreme = emd_df_master_wide[\\n    (emd_df_master_wide[\\\"culture\\\"] == \\\"WNT-100_EGF-0\\\")\\n    | (emd_df_master_wide[\\\"culture\\\"] == \\\"EGF-50_WNT-0\\\")\\n    | (emd_df_master_wide[\\\"culture\\\"] == \\\"WNT-0_EGF-0\\\")\\n]  # Controls and WNT/EGF mono treatments\\nemd_df_master_wide = emd_df_master_wide[\\n    (emd_df_master_wide[\\\"WNT_EGF_Ratio\\\"] != \\\"-\\\")\\n    & (emd_df_master_wide[\\\"EGF_WNT_Ratio\\\"] != \\\"-\\\")\\n]  # Removes WNT/EGF mono treatments\\nemd_df_master_wide = pd.concat([emd_df_master_wide_extreme, emd_df_master_wide])\\n\\nfor i, r in emd_df_master_wide.iterrows():\\n    if (r[\\\"WNT\\\"] == \\\"WNT-0\\\") & (r[\\\"EGF\\\"] == \\\"EGF-0\\\"):\\n        emd_df_master_wide.at[\\n            i, \\\"EGF_WNT_Ratio\\\"\\n        ] = \\\"--\\\"  # Label controls for colour palette\";\n                var nbb_cells = Jupyter.notebook.get_cells();\n                for (var i = 0; i < nbb_cells.length; ++i) {\n                    if (nbb_cells[i].input_prompt_number == nbb_cell_id) {\n                        if (nbb_cells[i].get_text() == nbb_unformatted_code) {\n                             nbb_cells[i].set_text(nbb_formatted_code);\n                        }\n                        break;\n                    }\n                }\n            }, 500);\n            ",
      "text/plain": [
       "<IPython.core.display.Javascript object>"
      ]
     },
     "metadata": {},
     "output_type": "display_data"
    }
   ],
   "source": [
    "# Import data\n",
    "base_dir = \"/Users/xiaoqin/Dropbox/TAPE LAB/Manuscripts/Qin & Cardoso Rodriguez et al/SupplementaryMaterials/Qin-CardosoRodriguez-et-al_analysis/Figure2_3-S3_S4/WNT-EGF Competition\"\n",
    "input_dir = f\"{base_dir}/output/emd\"\n",
    "output_dir = f\"{base_dir}/output/\"\n",
    "\n",
    "# Set experimental metadata\n",
    "subset = \"all-cells\"\n",
    "norm = \"no-norm\" # no-norm\n",
    "\n",
    "emd_df_master_wide = pd.read_csv(f\"{input_dir}/emd_df_master_{subset}_{norm}.csv\")\n",
    "emd_df_master_wide_extreme = emd_df_master_wide[\n",
    "    (emd_df_master_wide[\"culture\"] == \"WNT-100_EGF-0\")\n",
    "    | (emd_df_master_wide[\"culture\"] == \"EGF-50_WNT-0\")\n",
    "    | (emd_df_master_wide[\"culture\"] == \"WNT-0_EGF-0\")\n",
    "]  # Controls and WNT/EGF mono treatments\n",
    "emd_df_master_wide = emd_df_master_wide[\n",
    "    (emd_df_master_wide[\"WNT_EGF_Ratio\"] != \"-\")\n",
    "    & (emd_df_master_wide[\"EGF_WNT_Ratio\"] != \"-\")\n",
    "]  # Removes WNT/EGF mono treatments\n",
    "emd_df_master_wide = pd.concat([emd_df_master_wide_extreme, emd_df_master_wide])\n",
    "\n",
    "for i, r in emd_df_master_wide.iterrows():\n",
    "    if (r[\"WNT\"] == \"WNT-0\") & (r[\"EGF\"] == \"EGF-0\"):\n",
    "        emd_df_master_wide.at[\n",
    "            i, \"EGF_WNT_Ratio\"\n",
    "        ] = \"--\"  # Label controls for colour palette\n"
   ]
  },
  {
   "cell_type": "code",
   "execution_count": 13,
   "metadata": {},
   "outputs": [
    {
     "data": {
      "application/javascript": "\n            setTimeout(function() {\n                var nbb_cell_id = 13;\n                var nbb_unformatted_code = \"# Define markers used for PCA\\ndr_panel = [\\n    # cell-type\\n    \\\"111Cd_CD44\\\",\\n    # \\\"113In_CEACAM1_CD66a\\\",\\n    # \\\"115In_Pan-CK\\\",\\n    # \\\"116Cd_GFP\\\",\\n    \\\"143Nd_C-MYC_1\\\",\\n    \\\"162Dy_LRIG1_1\\\",\\n    \\\"169Tm_EPHB2\\\",\\n    \\\"171Yb_SOX9_5\\\",\\n    \\\"174Yb_Clusterin_1\\\",\\n    \\\"175Lu_Survivin_2\\\",\\n    \\\"176Yb_FABP2\\\",\\n]\\n\\ndr_matrix = master_df_subset(emd_df_master_wide, dr_panel)\";\n                var nbb_formatted_code = \"# Define markers used for PCA\\ndr_panel = [\\n    # cell-type\\n    \\\"111Cd_CD44\\\",\\n    # \\\"113In_CEACAM1_CD66a\\\",\\n    # \\\"115In_Pan-CK\\\",\\n    # \\\"116Cd_GFP\\\",\\n    \\\"143Nd_C-MYC_1\\\",\\n    \\\"162Dy_LRIG1_1\\\",\\n    \\\"169Tm_EPHB2\\\",\\n    \\\"171Yb_SOX9_5\\\",\\n    \\\"174Yb_Clusterin_1\\\",\\n    \\\"175Lu_Survivin_2\\\",\\n    \\\"176Yb_FABP2\\\",\\n]\\n\\ndr_matrix = master_df_subset(emd_df_master_wide, dr_panel)\";\n                var nbb_cells = Jupyter.notebook.get_cells();\n                for (var i = 0; i < nbb_cells.length; ++i) {\n                    if (nbb_cells[i].input_prompt_number == nbb_cell_id) {\n                        if (nbb_cells[i].get_text() == nbb_unformatted_code) {\n                             nbb_cells[i].set_text(nbb_formatted_code);\n                        }\n                        break;\n                    }\n                }\n            }, 500);\n            ",
      "text/plain": [
       "<IPython.core.display.Javascript object>"
      ]
     },
     "metadata": {},
     "output_type": "display_data"
    }
   ],
   "source": [
    "# Define markers used for PCA\n",
    "dr_panel = [\n",
    "    # cell-type\n",
    "    \"111Cd_CD44\",\n",
    "    # \"113In_CEACAM1_CD66a\",\n",
    "    # \"115In_Pan-CK\",\n",
    "    # \"116Cd_GFP\",\n",
    "    \"143Nd_C-MYC_1\",\n",
    "    \"162Dy_LRIG1_1\",\n",
    "    \"169Tm_EPHB2\",\n",
    "    \"171Yb_SOX9_5\",\n",
    "    \"174Yb_Clusterin_1\",\n",
    "    \"175Lu_Survivin_2\",\n",
    "    \"176Yb_FABP2\",\n",
    "]\n",
    "\n",
    "dr_matrix = master_df_subset(emd_df_master_wide, dr_panel)"
   ]
  },
  {
   "cell_type": "code",
   "execution_count": 14,
   "metadata": {},
   "outputs": [
    {
     "data": {
      "application/javascript": "\n            setTimeout(function() {\n                var nbb_cell_id = 14;\n                var nbb_unformatted_code = \"# PHATE calculation\\n\\nphate_operator = phate.PHATE(\\n    knn=8, t=\\\"auto\\\", random_state=42, mds_solver=\\\"smacof\\\", verbose=False\\n)\\nY_phate = phate_operator.fit_transform(dr_matrix)\\n\\n# Join PHATE coordinates with EMD dataframe\\nY_phate_df = pd.DataFrame(Y_phate).reset_index()\\nemd_df_master_wide = emd_df_master_wide.reset_index(drop=True).reset_index()\\nY_phate_df = pd.merge(emd_df_master_wide, Y_phate_df, on=\\\"index\\\")\\nY_phate_df.drop(columns=[\\\"index\\\"], inplace=True)\\nemd_df_master_wide.drop(columns=\\\"index\\\", inplace=True)\\n\\n# Adjust the plotting order\\nY_phate_df_control = Y_phate_df.loc[Y_phate_df[\\\"culture\\\"] == \\\"WNT-0_EGF-0\\\"]\\nY_phate_df_egf = Y_phate_df.loc[Y_phate_df[\\\"culture\\\"] == \\\"EGF-50_WNT-0\\\"]\\nY_phate_df_wnt = Y_phate_df.loc[Y_phate_df[\\\"culture\\\"] == \\\"WNT-100_EGF-0\\\"]\\n\\nY_phate_df_other = Y_phate_df.loc[\\n    -Y_phate_df[\\\"culture\\\"].isin([\\\"WNT-0_EGF-0\\\", \\\"EGF-50_WNT-0\\\", \\\"WNT-100_EGF-0\\\"])\\n]\\nY_phate_df = pd.concat(\\n    [Y_phate_df_other, Y_phate_df_egf, Y_phate_df_wnt, Y_phate_df_control]\\n)\";\n                var nbb_formatted_code = \"# PHATE calculation\\n\\nphate_operator = phate.PHATE(\\n    knn=8, t=\\\"auto\\\", random_state=42, mds_solver=\\\"smacof\\\", verbose=False\\n)\\nY_phate = phate_operator.fit_transform(dr_matrix)\\n\\n# Join PHATE coordinates with EMD dataframe\\nY_phate_df = pd.DataFrame(Y_phate).reset_index()\\nemd_df_master_wide = emd_df_master_wide.reset_index(drop=True).reset_index()\\nY_phate_df = pd.merge(emd_df_master_wide, Y_phate_df, on=\\\"index\\\")\\nY_phate_df.drop(columns=[\\\"index\\\"], inplace=True)\\nemd_df_master_wide.drop(columns=\\\"index\\\", inplace=True)\\n\\n# Adjust the plotting order\\nY_phate_df_control = Y_phate_df.loc[Y_phate_df[\\\"culture\\\"] == \\\"WNT-0_EGF-0\\\"]\\nY_phate_df_egf = Y_phate_df.loc[Y_phate_df[\\\"culture\\\"] == \\\"EGF-50_WNT-0\\\"]\\nY_phate_df_wnt = Y_phate_df.loc[Y_phate_df[\\\"culture\\\"] == \\\"WNT-100_EGF-0\\\"]\\n\\nY_phate_df_other = Y_phate_df.loc[\\n    -Y_phate_df[\\\"culture\\\"].isin([\\\"WNT-0_EGF-0\\\", \\\"EGF-50_WNT-0\\\", \\\"WNT-100_EGF-0\\\"])\\n]\\nY_phate_df = pd.concat(\\n    [Y_phate_df_other, Y_phate_df_egf, Y_phate_df_wnt, Y_phate_df_control]\\n)\";\n                var nbb_cells = Jupyter.notebook.get_cells();\n                for (var i = 0; i < nbb_cells.length; ++i) {\n                    if (nbb_cells[i].input_prompt_number == nbb_cell_id) {\n                        if (nbb_cells[i].get_text() == nbb_unformatted_code) {\n                             nbb_cells[i].set_text(nbb_formatted_code);\n                        }\n                        break;\n                    }\n                }\n            }, 500);\n            ",
      "text/plain": [
       "<IPython.core.display.Javascript object>"
      ]
     },
     "metadata": {},
     "output_type": "display_data"
    }
   ],
   "source": [
    "# PHATE calculation\n",
    "\n",
    "phate_operator = phate.PHATE(\n",
    "    knn=8, t=\"auto\", random_state=42, mds_solver=\"smacof\", verbose=False\n",
    ")\n",
    "Y_phate = phate_operator.fit_transform(dr_matrix)\n",
    "\n",
    "# Join PHATE coordinates with EMD dataframe\n",
    "Y_phate_df = pd.DataFrame(Y_phate).reset_index()\n",
    "emd_df_master_wide = emd_df_master_wide.reset_index(drop=True).reset_index()\n",
    "Y_phate_df = pd.merge(emd_df_master_wide, Y_phate_df, on=\"index\")\n",
    "Y_phate_df.drop(columns=[\"index\"], inplace=True)\n",
    "emd_df_master_wide.drop(columns=\"index\", inplace=True)\n",
    "\n",
    "# Adjust the plotting order\n",
    "Y_phate_df_control = Y_phate_df.loc[Y_phate_df[\"culture\"] == \"WNT-0_EGF-0\"]\n",
    "Y_phate_df_egf = Y_phate_df.loc[Y_phate_df[\"culture\"] == \"EGF-50_WNT-0\"]\n",
    "Y_phate_df_wnt = Y_phate_df.loc[Y_phate_df[\"culture\"] == \"WNT-100_EGF-0\"]\n",
    "\n",
    "Y_phate_df_other = Y_phate_df.loc[\n",
    "    -Y_phate_df[\"culture\"].isin([\"WNT-0_EGF-0\", \"EGF-50_WNT-0\", \"WNT-100_EGF-0\"])\n",
    "]\n",
    "Y_phate_df = pd.concat(\n",
    "    [Y_phate_df_other, Y_phate_df_egf, Y_phate_df_wnt, Y_phate_df_control]\n",
    ")"
   ]
  },
  {
   "attachments": {},
   "cell_type": "markdown",
   "metadata": {},
   "source": [
    "## WNT-EGF Competition"
   ]
  },
  {
   "cell_type": "code",
   "execution_count": 15,
   "metadata": {},
   "outputs": [
    {
     "data": {
      "text/plain": [
       "(-0.22825978511108558,\n",
       " 0.24964624025146537,\n",
       " -0.05427266832472169,\n",
       " 0.061467193817540254)"
      ]
     },
     "execution_count": 15,
     "metadata": {},
     "output_type": "execute_result"
    },
    {
     "data": {
      "image/png": "[encoded data removed]",
      "text/plain": [
       "<Figure size 180x180 with 1 Axes>"
      ]
     },
     "metadata": {},
     "output_type": "display_data"
    },
    {
     "data": {
      "application/javascript": "\n            setTimeout(function() {\n                var nbb_cell_id = 15;\n                var nbb_unformatted_code = \"fig, ax = plt.subplots(1,1, figsize=(1.8, 1.8))\\nfig = scprep.plot.scatter2d(\\n    Y_phate_df.iloc[:, -2:],\\n    c=Y_phate_df.loc[:, \\\"EGF_WNT_Ratio\\\"],\\n    cmap=colours,\\n    ticks=True,\\n    s=5,\\n    label_prefix=\\\"PHATE\\\",\\n    legend=False,\\n    fontsize=7,\\n    ax=ax,\\n)\\nfig.axis(\\\"off\\\")\";\n                var nbb_formatted_code = \"fig, ax = plt.subplots(1, 1, figsize=(1.8, 1.8))\\nfig = scprep.plot.scatter2d(\\n    Y_phate_df.iloc[:, -2:],\\n    c=Y_phate_df.loc[:, \\\"EGF_WNT_Ratio\\\"],\\n    cmap=colours,\\n    ticks=True,\\n    s=5,\\n    label_prefix=\\\"PHATE\\\",\\n    legend=False,\\n    fontsize=7,\\n    ax=ax,\\n)\\nfig.axis(\\\"off\\\")\";\n                var nbb_cells = Jupyter.notebook.get_cells();\n                for (var i = 0; i < nbb_cells.length; ++i) {\n                    if (nbb_cells[i].input_prompt_number == nbb_cell_id) {\n                        if (nbb_cells[i].get_text() == nbb_unformatted_code) {\n                             nbb_cells[i].set_text(nbb_formatted_code);\n                        }\n                        break;\n                    }\n                }\n            }, 500);\n            ",
      "text/plain": [
       "<IPython.core.display.Javascript object>"
      ]
     },
     "metadata": {},
     "output_type": "display_data"
    }
   ],
   "source": [
    "fig, ax = plt.subplots(1,1, figsize=(1.8, 1.8))\n",
    "fig = scprep.plot.scatter2d(\n",
    "    Y_phate_df.iloc[:, -2:],\n",
    "    c=Y_phate_df.loc[:, \"EGF_WNT_Ratio\"],\n",
    "    cmap=colours,\n",
    "    ticks=True,\n",
    "    s=5,\n",
    "    label_prefix=\"PHATE\",\n",
    "    legend=False,\n",
    "    fontsize=7,\n",
    "    ax=ax,\n",
    ")\n",
    "fig.axis(\"off\")"
   ]
  },
  {
   "attachments": {},
   "cell_type": "markdown",
   "metadata": {},
   "source": [
    "## CLU, SURVIVIN, Pan-CK, and pRB [S801/811]"
   ]
  },
  {
   "cell_type": "code",
   "execution_count": 17,
   "metadata": {},
   "outputs": [
    {
     "data": {
      "image/png": "[encoded data removed]",
      "text/plain": [
       "<Figure size 180x180 with 1 Axes>"
      ]
     },
     "metadata": {},
     "output_type": "display_data"
    },
    {
     "data": {
      "image/png": "[encoded data removed]",
      "text/plain": [
       "<Figure size 180x180 with 1 Axes>"
      ]
     },
     "metadata": {},
     "output_type": "display_data"
    },
    {
     "data": {
      "image/png": "[encoded data removed]",
      "text/plain": [
       "<Figure size 180x180 with 1 Axes>"
      ]
     },
     "metadata": {},
     "output_type": "display_data"
    },
    {
     "data": {
      "image/png": "[encoded data removed]",
      "text/plain": [
       "<Figure size 180x180 with 1 Axes>"
      ]
     },
     "metadata": {},
     "output_type": "display_data"
    },
    {
     "data": {
      "application/javascript": "\n            setTimeout(function() {\n                var nbb_cell_id = 17;\n                var nbb_unformatted_code = \"for marker in [\\\"174Yb_Clusterin_1\\\", \\\"175Lu_Survivin_2\\\", \\\"115In_Pan-CK\\\", \\\"150Nd_pRB_S807_S811\\\"]:\\n    fig, ax = plt.subplots(1, 1, figsize=(1.8, 1.8))\\n    fig = scprep.plot.scatter2d(\\n        Y_phate_df.iloc[:, -2:],\\n        c=Y_phate_df.loc[:, marker],\\n        cmap=sns.color_palette(\\\"Spectral_r\\\", as_cmap=True),\\n        ticks=False,\\n        s=5,\\n        # xlabel=f\\\"PC1_{pc1}%\\\",\\n        # ylabel=f\\\"PC2_{pc2}%\\\",\\n        xlabel=\\\"\\\",\\n        ylabel=\\\"\\\",\\n        legend=False,\\n        title=marker,\\n        fontsize=5,\\n        # legend_ncol=2,\\n        ax=ax,\\n    )\\n    fig.axis(\\\"off\\\")\\n    # plt.savefig(\\n    #     f\\\"{output_dir}/EMD-PHATE_WNT-EGF-Gradient_{marker}.pdf\\\",\\n    #     bbox_inches=\\\"tight\\\",\\n    #     )\";\n                var nbb_formatted_code = \"for marker in [\\n    \\\"174Yb_Clusterin_1\\\",\\n    \\\"175Lu_Survivin_2\\\",\\n    \\\"115In_Pan-CK\\\",\\n    \\\"150Nd_pRB_S807_S811\\\",\\n]:\\n    fig, ax = plt.subplots(1, 1, figsize=(1.8, 1.8))\\n    fig = scprep.plot.scatter2d(\\n        Y_phate_df.iloc[:, -2:],\\n        c=Y_phate_df.loc[:, marker],\\n        cmap=sns.color_palette(\\\"Spectral_r\\\", as_cmap=True),\\n        ticks=False,\\n        s=5,\\n        # xlabel=f\\\"PC1_{pc1}%\\\",\\n        # ylabel=f\\\"PC2_{pc2}%\\\",\\n        xlabel=\\\"\\\",\\n        ylabel=\\\"\\\",\\n        legend=False,\\n        title=marker,\\n        fontsize=5,\\n        # legend_ncol=2,\\n        ax=ax,\\n    )\\n    fig.axis(\\\"off\\\")\\n    # plt.savefig(\\n    #     f\\\"{output_dir}/EMD-PHATE_WNT-EGF-Gradient_{marker}.pdf\\\",\\n    #     bbox_inches=\\\"tight\\\",\\n    #     )\";\n                var nbb_cells = Jupyter.notebook.get_cells();\n                for (var i = 0; i < nbb_cells.length; ++i) {\n                    if (nbb_cells[i].input_prompt_number == nbb_cell_id) {\n                        if (nbb_cells[i].get_text() == nbb_unformatted_code) {\n                             nbb_cells[i].set_text(nbb_formatted_code);\n                        }\n                        break;\n                    }\n                }\n            }, 500);\n            ",
      "text/plain": [
       "<IPython.core.display.Javascript object>"
      ]
     },
     "metadata": {},
     "output_type": "display_data"
    }
   ],
   "source": [
    "for marker in [\"174Yb_Clusterin_1\", \"175Lu_Survivin_2\", \"115In_Pan-CK\", \"150Nd_pRB_S807_S811\"]:\n",
    "    fig, ax = plt.subplots(1, 1, figsize=(1.8, 1.8))\n",
    "    fig = scprep.plot.scatter2d(\n",
    "        Y_phate_df.iloc[:, -2:],\n",
    "        c=Y_phate_df.loc[:, marker],\n",
    "        cmap=sns.color_palette(\"Spectral_r\", as_cmap=True),\n",
    "        ticks=False,\n",
    "        s=5,\n",
    "        # xlabel=f\"PC1_{pc1}%\",\n",
    "        # ylabel=f\"PC2_{pc2}%\",\n",
    "        xlabel=\"\",\n",
    "        ylabel=\"\",\n",
    "        legend=False,\n",
    "        title=marker,\n",
    "        fontsize=5,\n",
    "        # legend_ncol=2,\n",
    "        ax=ax,\n",
    "    )\n",
    "    fig.axis(\"off\")\n",
    "    # plt.savefig(\n",
    "    #     f\"{output_dir}/EMD-PHATE_WNT-EGF-Gradient_{marker}.pdf\",\n",
    "    #     bbox_inches=\"tight\",\n",
    "    #     )\n"
   ]
  }
 ],
 "metadata": {
  "kernelspec": {
   "display_name": "base",
   "language": "python",
   "name": "python3"
  },
  "language_info": {
   "codemirror_mode": {
    "name": "ipython",
    "version": 3
   },
   "file_extension": ".py",
   "mimetype": "text/x-python",
   "name": "python",
   "nbconvert_exporter": "python",
   "pygments_lexer": "ipython3",
   "version": "3.10.6"
  },
  "orig_nbformat": 4,
  "vscode": {
   "interpreter": {
    "hash": "c6e4e9f98eb68ad3b7c296f83d20e6de614cb42e90992a65aa266555a3137d0d"
   }
  }
 },
 "nbformat": 4,
 "nbformat_minor": 2
}
