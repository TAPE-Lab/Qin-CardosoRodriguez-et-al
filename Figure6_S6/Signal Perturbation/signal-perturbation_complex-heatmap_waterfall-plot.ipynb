{
 "cells": [
  {
   "cell_type": "code",
   "execution_count": 1,
   "metadata": {
    "vscode": {
     "languageId": "r"
    }
   },
   "outputs": [
    {
     "name": "stderr",
     "output_type": "stream",
     "text": [
      "\n",
      "Attaching package: ‘dplyr’\n",
      "\n",
      "\n",
      "The following objects are masked from ‘package:stats’:\n",
      "\n",
      "    filter, lag\n",
      "\n",
      "\n",
      "The following objects are masked from ‘package:base’:\n",
      "\n",
      "    intersect, setdiff, setequal, union\n",
      "\n",
      "\n",
      "Loading required package: grid\n",
      "\n",
      "========================================\n",
      "ComplexHeatmap version 2.14.0\n",
      "Bioconductor page: http://bioconductor.org/packages/ComplexHeatmap/\n",
      "Github page: https://github.com/jokergoo/ComplexHeatmap\n",
      "Documentation: http://jokergoo.github.io/ComplexHeatmap-reference\n",
      "\n",
      "If you use it in published research, please cite either one:\n",
      "- Gu, Z. Complex Heatmap Visualization. iMeta 2022.\n",
      "- Gu, Z. Complex heatmaps reveal patterns and correlations in multidimensional \n",
      "    genomic data. Bioinformatics 2016.\n",
      "\n",
      "\n",
      "The new InteractiveComplexHeatmap package can directly export static \n",
      "complex heatmaps into an interactive Shiny app with zero effort. Have a try!\n",
      "\n",
      "This message can be suppressed by:\n",
      "  suppressPackageStartupMessages(library(ComplexHeatmap))\n",
      "========================================\n",
      "\n",
      "\n",
      "here() starts at /Users/xiaoqin/Dropbox/TAPE LAB/Manuscripts/Qin & Cardoso Rodriguez et al/SupplementaryMaterials/Qin-CardosoRodriguez-et-al_analysis\n",
      "\n"
     ]
    }
   ],
   "source": [
    "library(tidyr)\n",
    "library(dplyr)\n",
    "library(stringr)\n",
    "library(ggplot2)\n",
    "library(ComplexHeatmap)\n",
    "library(cowplot)\n",
    "library(here)"
   ]
  },
  {
   "attachments": {},
   "cell_type": "markdown",
   "metadata": {},
   "source": [
    "# Complex Heatmap (Figure S6C)"
   ]
  },
  {
   "cell_type": "code",
   "execution_count": 2,
   "metadata": {
    "vscode": {
     "languageId": "r"
    }
   },
   "outputs": [
    {
     "data": {
      "text/html": [
       "<table class=\"dataframe\">\n",
       "<caption>A data.frame: 6 × 9</caption>\n",
       "<thead>\n",
       "\t<tr><th></th><th scope=col>replicate</th><th scope=col>X162Dy_LRIG1_1</th><th scope=col>X174Yb_Clusterin_1</th><th scope=col>pro_vs_rev</th><th scope=col>pro_vs_rev_log2</th><th scope=col>genotype</th><th scope=col>culture</th><th scope=col>ligand</th><th scope=col>inhibitor</th></tr>\n",
       "\t<tr><th></th><th scope=col>&lt;int&gt;</th><th scope=col>&lt;dbl&gt;</th><th scope=col>&lt;dbl&gt;</th><th scope=col>&lt;dbl&gt;</th><th scope=col>&lt;dbl&gt;</th><th scope=col>&lt;chr&gt;</th><th scope=col>&lt;chr&gt;</th><th scope=col>&lt;chr&gt;</th><th scope=col>&lt;chr&gt;</th></tr>\n",
       "</thead>\n",
       "<tbody>\n",
       "\t<tr><th scope=row>1</th><td>1</td><td>2.794781</td><td>2.368777</td><td>1.595381</td><td>0.2705131</td><td>WT</td><td>WT_Ctrl-Ctrl     </td><td>Ctrl</td><td>Ctrl     </td></tr>\n",
       "\t<tr><th scope=row>2</th><td>2</td><td>2.853235</td><td>2.409194</td><td>1.665896</td><td>0.3006516</td><td>WT</td><td>WT_Ctrl-Ctrl     </td><td>Ctrl</td><td>Ctrl     </td></tr>\n",
       "\t<tr><th scope=row>3</th><td>3</td><td>2.852115</td><td>2.367558</td><td>1.718951</td><td>0.3252032</td><td>WT</td><td>WT_Ctrl-Ctrl     </td><td>Ctrl</td><td>Ctrl     </td></tr>\n",
       "\t<tr><th scope=row>4</th><td>1</td><td>3.032565</td><td>2.090828</td><td>2.346353</td><td>0.6640670</td><td>WT</td><td>WT_Ctrl-CHIR99021</td><td>Ctrl</td><td>CHIR99021</td></tr>\n",
       "\t<tr><th scope=row>5</th><td>2</td><td>2.956083</td><td>2.214709</td><td>2.118365</td><td>0.5151577</td><td>WT</td><td>WT_Ctrl-CHIR99021</td><td>Ctrl</td><td>CHIR99021</td></tr>\n",
       "\t<tr><th scope=row>6</th><td>3</td><td>2.912400</td><td>2.047267</td><td>2.265082</td><td>0.6499306</td><td>WT</td><td>WT_Ctrl-CHIR99021</td><td>Ctrl</td><td>CHIR99021</td></tr>\n",
       "</tbody>\n",
       "</table>\n"
      ],
      "text/latex": [
       "A data.frame: 6 × 9\n",
       "\\begin{tabular}{r|lllllllll}\n",
       "  & replicate & X162Dy\\_LRIG1\\_1 & X174Yb\\_Clusterin\\_1 & pro\\_vs\\_rev & pro\\_vs\\_rev\\_log2 & genotype & culture & ligand & inhibitor\\\\\n",
       "  & <int> & <dbl> & <dbl> & <dbl> & <dbl> & <chr> & <chr> & <chr> & <chr>\\\\\n",
       "\\hline\n",
       "\t1 & 1 & 2.794781 & 2.368777 & 1.595381 & 0.2705131 & WT & WT\\_Ctrl-Ctrl      & Ctrl & Ctrl     \\\\\n",
       "\t2 & 2 & 2.853235 & 2.409194 & 1.665896 & 0.3006516 & WT & WT\\_Ctrl-Ctrl      & Ctrl & Ctrl     \\\\\n",
       "\t3 & 3 & 2.852115 & 2.367558 & 1.718951 & 0.3252032 & WT & WT\\_Ctrl-Ctrl      & Ctrl & Ctrl     \\\\\n",
       "\t4 & 1 & 3.032565 & 2.090828 & 2.346353 & 0.6640670 & WT & WT\\_Ctrl-CHIR99021 & Ctrl & CHIR99021\\\\\n",
       "\t5 & 2 & 2.956083 & 2.214709 & 2.118365 & 0.5151577 & WT & WT\\_Ctrl-CHIR99021 & Ctrl & CHIR99021\\\\\n",
       "\t6 & 3 & 2.912400 & 2.047267 & 2.265082 & 0.6499306 & WT & WT\\_Ctrl-CHIR99021 & Ctrl & CHIR99021\\\\\n",
       "\\end{tabular}\n"
      ],
      "text/markdown": [
       "\n",
       "A data.frame: 6 × 9\n",
       "\n",
       "| <!--/--> | replicate &lt;int&gt; | X162Dy_LRIG1_1 &lt;dbl&gt; | X174Yb_Clusterin_1 &lt;dbl&gt; | pro_vs_rev &lt;dbl&gt; | pro_vs_rev_log2 &lt;dbl&gt; | genotype &lt;chr&gt; | culture &lt;chr&gt; | ligand &lt;chr&gt; | inhibitor &lt;chr&gt; |\n",
       "|---|---|---|---|---|---|---|---|---|---|\n",
       "| 1 | 1 | 2.794781 | 2.368777 | 1.595381 | 0.2705131 | WT | WT_Ctrl-Ctrl      | Ctrl | Ctrl      |\n",
       "| 2 | 2 | 2.853235 | 2.409194 | 1.665896 | 0.3006516 | WT | WT_Ctrl-Ctrl      | Ctrl | Ctrl      |\n",
       "| 3 | 3 | 2.852115 | 2.367558 | 1.718951 | 0.3252032 | WT | WT_Ctrl-Ctrl      | Ctrl | Ctrl      |\n",
       "| 4 | 1 | 3.032565 | 2.090828 | 2.346353 | 0.6640670 | WT | WT_Ctrl-CHIR99021 | Ctrl | CHIR99021 |\n",
       "| 5 | 2 | 2.956083 | 2.214709 | 2.118365 | 0.5151577 | WT | WT_Ctrl-CHIR99021 | Ctrl | CHIR99021 |\n",
       "| 6 | 3 | 2.912400 | 2.047267 | 2.265082 | 0.6499306 | WT | WT_Ctrl-CHIR99021 | Ctrl | CHIR99021 |\n",
       "\n"
      ],
      "text/plain": [
       "  replicate X162Dy_LRIG1_1 X174Yb_Clusterin_1 pro_vs_rev pro_vs_rev_log2\n",
       "1 1         2.794781       2.368777           1.595381   0.2705131      \n",
       "2 2         2.853235       2.409194           1.665896   0.3006516      \n",
       "3 3         2.852115       2.367558           1.718951   0.3252032      \n",
       "4 1         3.032565       2.090828           2.346353   0.6640670      \n",
       "5 2         2.956083       2.214709           2.118365   0.5151577      \n",
       "6 3         2.912400       2.047267           2.265082   0.6499306      \n",
       "  genotype culture           ligand inhibitor\n",
       "1 WT       WT_Ctrl-Ctrl      Ctrl   Ctrl     \n",
       "2 WT       WT_Ctrl-Ctrl      Ctrl   Ctrl     \n",
       "3 WT       WT_Ctrl-Ctrl      Ctrl   Ctrl     \n",
       "4 WT       WT_Ctrl-CHIR99021 Ctrl   CHIR99021\n",
       "5 WT       WT_Ctrl-CHIR99021 Ctrl   CHIR99021\n",
       "6 WT       WT_Ctrl-CHIR99021 Ctrl   CHIR99021"
      ]
     },
     "metadata": {},
     "output_type": "display_data"
    }
   ],
   "source": [
    "# ---\n",
    "# Prepare dataframe\n",
    "# ---\n",
    "df <- read.csv(here(\"Figure6_S6\", \"Signal Perturbation\", \"output\", \"stem-score\", \"stemness-score_log2_by-condition_raw.csv\"))\n",
    "\n",
    "df <- df %>%\n",
    "  arrange(factor(inhibitor, levels = c(\n",
    "    \"Ctrl\",\n",
    "    \"CHIR99021\",\n",
    "    \"ICG001\",\n",
    "    \"SIS3\",\n",
    "    \"CA3\",\n",
    "    \"Dasatinib\",\n",
    "    \"GDC0941\",\n",
    "    \"Trametinib\",\n",
    "    \"PF573228\"\n",
    "  ))) %>%\n",
    "  arrange(factor(ligand, levels = c(\n",
    "    \"Ctrl\",\n",
    "    \"EREG\",\n",
    "    \"WNT3A\",\n",
    "    \"TGFb1\"\n",
    "  ))) %>%\n",
    "  arrange(factor(genotype,\n",
    "    levels =\n",
    "      c(\"WT\", \"A\", \"K\", \"AK\")\n",
    "  ))\n",
    "\n",
    "head(df)\n"
   ]
  },
  {
   "cell_type": "code",
   "execution_count": 3,
   "metadata": {
    "vscode": {
     "languageId": "r"
    }
   },
   "outputs": [
    {
     "data": {
      "text/html": [
       "<table class=\"dataframe\">\n",
       "<caption>A data.frame: 6 × 3</caption>\n",
       "<thead>\n",
       "\t<tr><th></th><th scope=col>genotype</th><th scope=col>ligand</th><th scope=col>inhibitor</th></tr>\n",
       "\t<tr><th></th><th scope=col>&lt;chr&gt;</th><th scope=col>&lt;chr&gt;</th><th scope=col>&lt;chr&gt;</th></tr>\n",
       "</thead>\n",
       "<tbody>\n",
       "\t<tr><th scope=row>1</th><td>WT</td><td>Ctrl</td><td>Ctrl     </td></tr>\n",
       "\t<tr><th scope=row>2</th><td>WT</td><td>Ctrl</td><td>Ctrl     </td></tr>\n",
       "\t<tr><th scope=row>3</th><td>WT</td><td>Ctrl</td><td>Ctrl     </td></tr>\n",
       "\t<tr><th scope=row>4</th><td>WT</td><td>Ctrl</td><td>CHIR99021</td></tr>\n",
       "\t<tr><th scope=row>5</th><td>WT</td><td>Ctrl</td><td>CHIR99021</td></tr>\n",
       "\t<tr><th scope=row>6</th><td>WT</td><td>Ctrl</td><td>CHIR99021</td></tr>\n",
       "</tbody>\n",
       "</table>\n"
      ],
      "text/latex": [
       "A data.frame: 6 × 3\n",
       "\\begin{tabular}{r|lll}\n",
       "  & genotype & ligand & inhibitor\\\\\n",
       "  & <chr> & <chr> & <chr>\\\\\n",
       "\\hline\n",
       "\t1 & WT & Ctrl & Ctrl     \\\\\n",
       "\t2 & WT & Ctrl & Ctrl     \\\\\n",
       "\t3 & WT & Ctrl & Ctrl     \\\\\n",
       "\t4 & WT & Ctrl & CHIR99021\\\\\n",
       "\t5 & WT & Ctrl & CHIR99021\\\\\n",
       "\t6 & WT & Ctrl & CHIR99021\\\\\n",
       "\\end{tabular}\n"
      ],
      "text/markdown": [
       "\n",
       "A data.frame: 6 × 3\n",
       "\n",
       "| <!--/--> | genotype &lt;chr&gt; | ligand &lt;chr&gt; | inhibitor &lt;chr&gt; |\n",
       "|---|---|---|---|\n",
       "| 1 | WT | Ctrl | Ctrl      |\n",
       "| 2 | WT | Ctrl | Ctrl      |\n",
       "| 3 | WT | Ctrl | Ctrl      |\n",
       "| 4 | WT | Ctrl | CHIR99021 |\n",
       "| 5 | WT | Ctrl | CHIR99021 |\n",
       "| 6 | WT | Ctrl | CHIR99021 |\n",
       "\n"
      ],
      "text/plain": [
       "  genotype ligand inhibitor\n",
       "1 WT       Ctrl   Ctrl     \n",
       "2 WT       Ctrl   Ctrl     \n",
       "3 WT       Ctrl   Ctrl     \n",
       "4 WT       Ctrl   CHIR99021\n",
       "5 WT       Ctrl   CHIR99021\n",
       "6 WT       Ctrl   CHIR99021"
      ]
     },
     "metadata": {},
     "output_type": "display_data"
    },
    {
     "data": {
      "text/html": [
       "<table class=\"dataframe\">\n",
       "<caption>A data.frame: 6 × 5</caption>\n",
       "<thead>\n",
       "\t<tr><th></th><th scope=col>genotype</th><th scope=col>ligand</th><th scope=col>inhibitor</th><th scope=col>replicate</th><th scope=col>pro_vs_rev_log2</th></tr>\n",
       "\t<tr><th></th><th scope=col>&lt;chr&gt;</th><th scope=col>&lt;chr&gt;</th><th scope=col>&lt;chr&gt;</th><th scope=col>&lt;int&gt;</th><th scope=col>&lt;dbl&gt;</th></tr>\n",
       "</thead>\n",
       "<tbody>\n",
       "\t<tr><th scope=row>1</th><td>WT</td><td>Ctrl</td><td>Ctrl     </td><td>1</td><td>0.2705131</td></tr>\n",
       "\t<tr><th scope=row>2</th><td>WT</td><td>Ctrl</td><td>Ctrl     </td><td>2</td><td>0.3006516</td></tr>\n",
       "\t<tr><th scope=row>3</th><td>WT</td><td>Ctrl</td><td>Ctrl     </td><td>3</td><td>0.3252032</td></tr>\n",
       "\t<tr><th scope=row>4</th><td>WT</td><td>Ctrl</td><td>CHIR99021</td><td>1</td><td>0.6640670</td></tr>\n",
       "\t<tr><th scope=row>5</th><td>WT</td><td>Ctrl</td><td>CHIR99021</td><td>2</td><td>0.5151577</td></tr>\n",
       "\t<tr><th scope=row>6</th><td>WT</td><td>Ctrl</td><td>CHIR99021</td><td>3</td><td>0.6499306</td></tr>\n",
       "</tbody>\n",
       "</table>\n"
      ],
      "text/latex": [
       "A data.frame: 6 × 5\n",
       "\\begin{tabular}{r|lllll}\n",
       "  & genotype & ligand & inhibitor & replicate & pro\\_vs\\_rev\\_log2\\\\\n",
       "  & <chr> & <chr> & <chr> & <int> & <dbl>\\\\\n",
       "\\hline\n",
       "\t1 & WT & Ctrl & Ctrl      & 1 & 0.2705131\\\\\n",
       "\t2 & WT & Ctrl & Ctrl      & 2 & 0.3006516\\\\\n",
       "\t3 & WT & Ctrl & Ctrl      & 3 & 0.3252032\\\\\n",
       "\t4 & WT & Ctrl & CHIR99021 & 1 & 0.6640670\\\\\n",
       "\t5 & WT & Ctrl & CHIR99021 & 2 & 0.5151577\\\\\n",
       "\t6 & WT & Ctrl & CHIR99021 & 3 & 0.6499306\\\\\n",
       "\\end{tabular}\n"
      ],
      "text/markdown": [
       "\n",
       "A data.frame: 6 × 5\n",
       "\n",
       "| <!--/--> | genotype &lt;chr&gt; | ligand &lt;chr&gt; | inhibitor &lt;chr&gt; | replicate &lt;int&gt; | pro_vs_rev_log2 &lt;dbl&gt; |\n",
       "|---|---|---|---|---|---|\n",
       "| 1 | WT | Ctrl | Ctrl      | 1 | 0.2705131 |\n",
       "| 2 | WT | Ctrl | Ctrl      | 2 | 0.3006516 |\n",
       "| 3 | WT | Ctrl | Ctrl      | 3 | 0.3252032 |\n",
       "| 4 | WT | Ctrl | CHIR99021 | 1 | 0.6640670 |\n",
       "| 5 | WT | Ctrl | CHIR99021 | 2 | 0.5151577 |\n",
       "| 6 | WT | Ctrl | CHIR99021 | 3 | 0.6499306 |\n",
       "\n"
      ],
      "text/plain": [
       "  genotype ligand inhibitor replicate pro_vs_rev_log2\n",
       "1 WT       Ctrl   Ctrl      1         0.2705131      \n",
       "2 WT       Ctrl   Ctrl      2         0.3006516      \n",
       "3 WT       Ctrl   Ctrl      3         0.3252032      \n",
       "4 WT       Ctrl   CHIR99021 1         0.6640670      \n",
       "5 WT       Ctrl   CHIR99021 2         0.5151577      \n",
       "6 WT       Ctrl   CHIR99021 3         0.6499306      "
      ]
     },
     "metadata": {},
     "output_type": "display_data"
    },
    {
     "data": {
      "text/html": [
       "<table class=\"dataframe\">\n",
       "<caption>A tibble: 6 × 7</caption>\n",
       "<thead>\n",
       "\t<tr><th scope=col>ligand</th><th scope=col>inhibitor</th><th scope=col>replicate</th><th scope=col>WT</th><th scope=col>A</th><th scope=col>K</th><th scope=col>AK</th></tr>\n",
       "\t<tr><th scope=col>&lt;chr&gt;</th><th scope=col>&lt;chr&gt;</th><th scope=col>&lt;int&gt;</th><th scope=col>&lt;dbl&gt;</th><th scope=col>&lt;dbl&gt;</th><th scope=col>&lt;dbl&gt;</th><th scope=col>&lt;dbl&gt;</th></tr>\n",
       "</thead>\n",
       "<tbody>\n",
       "\t<tr><td>Ctrl</td><td>Ctrl     </td><td>1</td><td>0.2705131</td><td>0.8527138</td><td>0.8285207</td><td>2.079792</td></tr>\n",
       "\t<tr><td>Ctrl</td><td>Ctrl     </td><td>2</td><td>0.3006516</td><td>0.7725990</td><td>0.7907896</td><td>1.862771</td></tr>\n",
       "\t<tr><td>Ctrl</td><td>Ctrl     </td><td>3</td><td>0.3252032</td><td>0.8072490</td><td>0.8097385</td><td>2.060517</td></tr>\n",
       "\t<tr><td>Ctrl</td><td>CHIR99021</td><td>1</td><td>0.6640670</td><td>1.1397327</td><td>1.1881857</td><td>2.162565</td></tr>\n",
       "\t<tr><td>Ctrl</td><td>CHIR99021</td><td>2</td><td>0.5151577</td><td>1.3103152</td><td>1.2003037</td><td>2.194816</td></tr>\n",
       "\t<tr><td>Ctrl</td><td>CHIR99021</td><td>3</td><td>0.6499306</td><td>1.2709366</td><td>1.1865578</td><td>2.264072</td></tr>\n",
       "</tbody>\n",
       "</table>\n"
      ],
      "text/latex": [
       "A tibble: 6 × 7\n",
       "\\begin{tabular}{lllllll}\n",
       " ligand & inhibitor & replicate & WT & A & K & AK\\\\\n",
       " <chr> & <chr> & <int> & <dbl> & <dbl> & <dbl> & <dbl>\\\\\n",
       "\\hline\n",
       "\t Ctrl & Ctrl      & 1 & 0.2705131 & 0.8527138 & 0.8285207 & 2.079792\\\\\n",
       "\t Ctrl & Ctrl      & 2 & 0.3006516 & 0.7725990 & 0.7907896 & 1.862771\\\\\n",
       "\t Ctrl & Ctrl      & 3 & 0.3252032 & 0.8072490 & 0.8097385 & 2.060517\\\\\n",
       "\t Ctrl & CHIR99021 & 1 & 0.6640670 & 1.1397327 & 1.1881857 & 2.162565\\\\\n",
       "\t Ctrl & CHIR99021 & 2 & 0.5151577 & 1.3103152 & 1.2003037 & 2.194816\\\\\n",
       "\t Ctrl & CHIR99021 & 3 & 0.6499306 & 1.2709366 & 1.1865578 & 2.264072\\\\\n",
       "\\end{tabular}\n"
      ],
      "text/markdown": [
       "\n",
       "A tibble: 6 × 7\n",
       "\n",
       "| ligand &lt;chr&gt; | inhibitor &lt;chr&gt; | replicate &lt;int&gt; | WT &lt;dbl&gt; | A &lt;dbl&gt; | K &lt;dbl&gt; | AK &lt;dbl&gt; |\n",
       "|---|---|---|---|---|---|---|\n",
       "| Ctrl | Ctrl      | 1 | 0.2705131 | 0.8527138 | 0.8285207 | 2.079792 |\n",
       "| Ctrl | Ctrl      | 2 | 0.3006516 | 0.7725990 | 0.7907896 | 1.862771 |\n",
       "| Ctrl | Ctrl      | 3 | 0.3252032 | 0.8072490 | 0.8097385 | 2.060517 |\n",
       "| Ctrl | CHIR99021 | 1 | 0.6640670 | 1.1397327 | 1.1881857 | 2.162565 |\n",
       "| Ctrl | CHIR99021 | 2 | 0.5151577 | 1.3103152 | 1.2003037 | 2.194816 |\n",
       "| Ctrl | CHIR99021 | 3 | 0.6499306 | 1.2709366 | 1.1865578 | 2.264072 |\n",
       "\n"
      ],
      "text/plain": [
       "  ligand inhibitor replicate WT        A         K         AK      \n",
       "1 Ctrl   Ctrl      1         0.2705131 0.8527138 0.8285207 2.079792\n",
       "2 Ctrl   Ctrl      2         0.3006516 0.7725990 0.7907896 1.862771\n",
       "3 Ctrl   Ctrl      3         0.3252032 0.8072490 0.8097385 2.060517\n",
       "4 Ctrl   CHIR99021 1         0.6640670 1.1397327 1.1881857 2.162565\n",
       "5 Ctrl   CHIR99021 2         0.5151577 1.3103152 1.2003037 2.194816\n",
       "6 Ctrl   CHIR99021 3         0.6499306 1.2709366 1.1865578 2.264072"
      ]
     },
     "metadata": {},
     "output_type": "display_data"
    },
    {
     "data": {
      "text/html": [
       "<style>\n",
       ".dl-inline {width: auto; margin:0; padding: 0}\n",
       ".dl-inline>dt, .dl-inline>dd {float: none; width: auto; display: inline-block}\n",
       ".dl-inline>dt::after {content: \":\\0020\"; padding-right: .5ex}\n",
       ".dl-inline>dt:not(:first-of-type) {padding-left: .5ex}\n",
       "</style><dl class=dl-inline><dt>1%</dt><dd>-0.939487783342109</dd><dt>99%</dt><dd>2.18842739665484</dd></dl>\n"
      ],
      "text/latex": [
       "\\begin{description*}\n",
       "\\item[1\\textbackslash{}\\%] -0.939487783342109\n",
       "\\item[99\\textbackslash{}\\%] 2.18842739665484\n",
       "\\end{description*}\n"
      ],
      "text/markdown": [
       "1%\n",
       ":   -0.93948778334210999%\n",
       ":   2.18842739665484\n",
       "\n"
      ],
      "text/plain": [
       "        1%        99% \n",
       "-0.9394878  2.1884274 "
      ]
     },
     "metadata": {},
     "output_type": "display_data"
    },
    {
     "data": {
      "image/png": "[encoded data removed]",
      "text/plain": [
       "plot without title"
      ]
     },
     "metadata": {
      "image/png": {
       "height": 420,
       "width": 420
      }
     },
     "output_type": "display_data"
    }
   ],
   "source": [
    "# ---\n",
    "# Complex Heatmap\n",
    "# ---\n",
    "\n",
    "# Metadata\n",
    "df_metadata <- df %>% select(genotype, ligand, inhibitor)\n",
    "head(df_metadata)\n",
    "\n",
    "# Useful columns\n",
    "df_subset <- df %>%\n",
    "  select(genotype, ligand, inhibitor, replicate, pro_vs_rev_log2)\n",
    "head(df_subset)\n",
    "\n",
    "# Long to wide transformation\n",
    "df_subset_wide <- pivot_wider(df_subset, names_from = genotype, values_from = pro_vs_rev_log2)\n",
    "head(df_subset_wide)\n",
    "df_subset_wide_data <- df_subset_wide %>% select(WT, A, K, AK)\n",
    "\n",
    "mat <- df_subset_wide_data %>%\n",
    "  as.matrix() %>%\n",
    "  t()\n",
    "quantile(mat, c(0.01, 0.99)) # Determine the range of the colour scale\n",
    "colour <- circlize::colorRamp2(c(-1, 0, 2), c(\"#D53E4F\", \"white\", \"#3288BD\"))\n",
    "\n",
    "ha <- HeatmapAnnotation(\n",
    "  # genotype = factor(df_subset[, \"genotype\"], levels = c(\"WT\", \"A\", \"K\", \"AK\")),\n",
    "  ligand = factor(df_subset_wide$ligand, levels = c(\n",
    "    \"Ctrl\",\n",
    "    \"EREG\",\n",
    "    \"WNT3A\",\n",
    "    \"TGFb1\"\n",
    "  )),\n",
    "  inhibitor = factor(df_subset_wide$inhibitor, levels = c(\n",
    "    \"Ctrl\",\n",
    "    \"CA3\",\n",
    "    \"CHIR99021\",\n",
    "    \"Dasatinib\",\n",
    "    \"GDC0941\",\n",
    "    \"ICG001\",\n",
    "    \"PF573228\",\n",
    "    \"SIS3\",\n",
    "    \"Trametinib\"\n",
    "  )),\n",
    "  col = list(\n",
    "    ligand = c(\n",
    "      \"Ctrl\" = \"#E6DCCB\",\n",
    "      \"EREG\" = \"#FEAA11\",\n",
    "      \"WNT3A\" = \"#6E925E\",\n",
    "      \"TGFb1\" = \"#932192\"\n",
    "    ),\n",
    "    inhibitor = c(\n",
    "      \"Ctrl\" = \"#E6DCCB\",\n",
    "      \"CA3\" = \"#D76144\",\n",
    "      \"CHIR99021\" = \"#93ADB4\",\n",
    "      \"ICG001\" = \"#2EB0B2\",\n",
    "      \"Dasatinib\" = \"#7A80FF\",\n",
    "      \"Trametinib\" = \"#7B00FF\",\n",
    "      \"GDC0941\" = \"#CD0578\",\n",
    "      \"PF573228\" = \"#990090\",\n",
    "      \"SIS3\" = \"#AE9576\"\n",
    "    )\n",
    "  )\n",
    "  # show_legend = c(FALSE, FALSE, FALSE),\n",
    "  # show_annotation_name = c(FALSE, FALSE, FALSE)\n",
    ")\n",
    "Heatmap(mat,\n",
    "  cluster_rows = FALSE,\n",
    "  cluster_columns = FALSE,\n",
    "  col = colour,\n",
    "  top_annotation = ha,\n",
    "  show_row_names = FALSE\n",
    ")"
   ]
  },
  {
   "attachments": {},
   "cell_type": "markdown",
   "metadata": {},
   "source": [
    "# Waterfall Plot (Figure 6F)"
   ]
  },
  {
   "cell_type": "code",
   "execution_count": 5,
   "metadata": {
    "vscode": {
     "languageId": "r"
    }
   },
   "outputs": [
    {
     "data": {
      "text/html": [
       "<table class=\"dataframe\">\n",
       "<caption>A data.frame: 6 × 9</caption>\n",
       "<thead>\n",
       "\t<tr><th></th><th scope=col>X162Dy_LRIG1_1</th><th scope=col>X174Yb_Clusterin_1</th><th scope=col>pro_vs_rev</th><th scope=col>pvr_log2_mean</th><th scope=col>pvr_log2_std</th><th scope=col>genotype</th><th scope=col>culture</th><th scope=col>ligand</th><th scope=col>inhibitor</th></tr>\n",
       "\t<tr><th></th><th scope=col>&lt;dbl&gt;</th><th scope=col>&lt;dbl&gt;</th><th scope=col>&lt;dbl&gt;</th><th scope=col>&lt;dbl&gt;</th><th scope=col>&lt;dbl&gt;</th><th scope=col>&lt;chr&gt;</th><th scope=col>&lt;chr&gt;</th><th scope=col>&lt;chr&gt;</th><th scope=col>&lt;chr&gt;</th></tr>\n",
       "</thead>\n",
       "<tbody>\n",
       "\t<tr><th scope=row>1</th><td>2.833377</td><td>2.381843</td><td>1.660076</td><td> 0.298789297</td><td>0.02739259</td><td>WT</td><td>WT_Ctrl-Ctrl     </td><td>Ctrl</td><td>Ctrl     </td></tr>\n",
       "\t<tr><th scope=row>2</th><td>2.967016</td><td>2.117601</td><td>2.243267</td><td> 0.609718424</td><td>0.08219648</td><td>WT</td><td>WT_Ctrl-CHIR99021</td><td>Ctrl</td><td>CHIR99021</td></tr>\n",
       "\t<tr><th scope=row>3</th><td>2.672668</td><td>2.491016</td><td>1.514007</td><td> 0.120872039</td><td>0.05438583</td><td>WT</td><td>WT_Ctrl-ICG001   </td><td>Ctrl</td><td>ICG001   </td></tr>\n",
       "\t<tr><th scope=row>4</th><td>2.758541</td><td>2.577435</td><td>1.394165</td><td> 0.098571193</td><td>0.03705968</td><td>WT</td><td>WT_Ctrl-SIS3     </td><td>Ctrl</td><td>SIS3     </td></tr>\n",
       "\t<tr><th scope=row>5</th><td>2.217143</td><td>2.210625</td><td>1.428139</td><td>-0.006513697</td><td>0.15388670</td><td>WT</td><td>WT_Ctrl-CA3      </td><td>Ctrl</td><td>CA3      </td></tr>\n",
       "\t<tr><th scope=row>6</th><td>2.072804</td><td>2.314882</td><td>1.275785</td><td>-0.153236205</td><td>0.05318168</td><td>WT</td><td>WT_Ctrl-Dasatinib</td><td>Ctrl</td><td>Dasatinib</td></tr>\n",
       "</tbody>\n",
       "</table>\n"
      ],
      "text/latex": [
       "A data.frame: 6 × 9\n",
       "\\begin{tabular}{r|lllllllll}\n",
       "  & X162Dy\\_LRIG1\\_1 & X174Yb\\_Clusterin\\_1 & pro\\_vs\\_rev & pvr\\_log2\\_mean & pvr\\_log2\\_std & genotype & culture & ligand & inhibitor\\\\\n",
       "  & <dbl> & <dbl> & <dbl> & <dbl> & <dbl> & <chr> & <chr> & <chr> & <chr>\\\\\n",
       "\\hline\n",
       "\t1 & 2.833377 & 2.381843 & 1.660076 &  0.298789297 & 0.02739259 & WT & WT\\_Ctrl-Ctrl      & Ctrl & Ctrl     \\\\\n",
       "\t2 & 2.967016 & 2.117601 & 2.243267 &  0.609718424 & 0.08219648 & WT & WT\\_Ctrl-CHIR99021 & Ctrl & CHIR99021\\\\\n",
       "\t3 & 2.672668 & 2.491016 & 1.514007 &  0.120872039 & 0.05438583 & WT & WT\\_Ctrl-ICG001    & Ctrl & ICG001   \\\\\n",
       "\t4 & 2.758541 & 2.577435 & 1.394165 &  0.098571193 & 0.03705968 & WT & WT\\_Ctrl-SIS3      & Ctrl & SIS3     \\\\\n",
       "\t5 & 2.217143 & 2.210625 & 1.428139 & -0.006513697 & 0.15388670 & WT & WT\\_Ctrl-CA3       & Ctrl & CA3      \\\\\n",
       "\t6 & 2.072804 & 2.314882 & 1.275785 & -0.153236205 & 0.05318168 & WT & WT\\_Ctrl-Dasatinib & Ctrl & Dasatinib\\\\\n",
       "\\end{tabular}\n"
      ],
      "text/markdown": [
       "\n",
       "A data.frame: 6 × 9\n",
       "\n",
       "| <!--/--> | X162Dy_LRIG1_1 &lt;dbl&gt; | X174Yb_Clusterin_1 &lt;dbl&gt; | pro_vs_rev &lt;dbl&gt; | pvr_log2_mean &lt;dbl&gt; | pvr_log2_std &lt;dbl&gt; | genotype &lt;chr&gt; | culture &lt;chr&gt; | ligand &lt;chr&gt; | inhibitor &lt;chr&gt; |\n",
       "|---|---|---|---|---|---|---|---|---|---|\n",
       "| 1 | 2.833377 | 2.381843 | 1.660076 |  0.298789297 | 0.02739259 | WT | WT_Ctrl-Ctrl      | Ctrl | Ctrl      |\n",
       "| 2 | 2.967016 | 2.117601 | 2.243267 |  0.609718424 | 0.08219648 | WT | WT_Ctrl-CHIR99021 | Ctrl | CHIR99021 |\n",
       "| 3 | 2.672668 | 2.491016 | 1.514007 |  0.120872039 | 0.05438583 | WT | WT_Ctrl-ICG001    | Ctrl | ICG001    |\n",
       "| 4 | 2.758541 | 2.577435 | 1.394165 |  0.098571193 | 0.03705968 | WT | WT_Ctrl-SIS3      | Ctrl | SIS3      |\n",
       "| 5 | 2.217143 | 2.210625 | 1.428139 | -0.006513697 | 0.15388670 | WT | WT_Ctrl-CA3       | Ctrl | CA3       |\n",
       "| 6 | 2.072804 | 2.314882 | 1.275785 | -0.153236205 | 0.05318168 | WT | WT_Ctrl-Dasatinib | Ctrl | Dasatinib |\n",
       "\n"
      ],
      "text/plain": [
       "  X162Dy_LRIG1_1 X174Yb_Clusterin_1 pro_vs_rev pvr_log2_mean pvr_log2_std\n",
       "1 2.833377       2.381843           1.660076    0.298789297  0.02739259  \n",
       "2 2.967016       2.117601           2.243267    0.609718424  0.08219648  \n",
       "3 2.672668       2.491016           1.514007    0.120872039  0.05438583  \n",
       "4 2.758541       2.577435           1.394165    0.098571193  0.03705968  \n",
       "5 2.217143       2.210625           1.428139   -0.006513697  0.15388670  \n",
       "6 2.072804       2.314882           1.275785   -0.153236205  0.05318168  \n",
       "  genotype culture           ligand inhibitor\n",
       "1 WT       WT_Ctrl-Ctrl      Ctrl   Ctrl     \n",
       "2 WT       WT_Ctrl-CHIR99021 Ctrl   CHIR99021\n",
       "3 WT       WT_Ctrl-ICG001    Ctrl   ICG001   \n",
       "4 WT       WT_Ctrl-SIS3      Ctrl   SIS3     \n",
       "5 WT       WT_Ctrl-CA3       Ctrl   CA3      \n",
       "6 WT       WT_Ctrl-Dasatinib Ctrl   Dasatinib"
      ]
     },
     "metadata": {},
     "output_type": "display_data"
    }
   ],
   "source": [
    "# ---\n",
    "# Prepare dataframe\n",
    "# ---\n",
    "df <- read.csv(here(\"Figure6_S6\", \"Signal Perturbation\", \"output\", \"stem-score\", \"stemness-score_log2_by-condition.csv\"))\n",
    "\n",
    "df <- df %>%\n",
    "  arrange(factor(inhibitor, levels = c(\n",
    "    \"Ctrl\",\n",
    "    \"CHIR99021\",\n",
    "    \"ICG001\",\n",
    "    \"SIS3\",\n",
    "    \"CA3\",\n",
    "    \"Dasatinib\",\n",
    "    \"GDC0941\",\n",
    "    \"Trametinib\",\n",
    "    \"PF573228\"\n",
    "  ))) %>%\n",
    "  arrange(factor(ligand, levels = c(\n",
    "    \"Ctrl\",\n",
    "    \"EREG\",\n",
    "    \"WNT3A\",\n",
    "    \"TGFb1\"\n",
    "  ))) %>%\n",
    "  arrange(factor(genotype,\n",
    "    levels =\n",
    "      c(\"WT\", \"A\", \"K\", \"AK\")\n",
    "  ))\n",
    "\n",
    "head(df)"
   ]
  },
  {
   "cell_type": "code",
   "execution_count": 6,
   "metadata": {
    "vscode": {
     "languageId": "r"
    }
   },
   "outputs": [
    {
     "data": {
      "text/html": [
       "<table class=\"dataframe\">\n",
       "<caption>A data.frame: 6 × 3</caption>\n",
       "<thead>\n",
       "\t<tr><th></th><th scope=col>genotype</th><th scope=col>ligand</th><th scope=col>inhibitor</th></tr>\n",
       "\t<tr><th></th><th scope=col>&lt;chr&gt;</th><th scope=col>&lt;chr&gt;</th><th scope=col>&lt;chr&gt;</th></tr>\n",
       "</thead>\n",
       "<tbody>\n",
       "\t<tr><th scope=row>1</th><td>WT</td><td>Ctrl</td><td>Ctrl     </td></tr>\n",
       "\t<tr><th scope=row>2</th><td>WT</td><td>Ctrl</td><td>CHIR99021</td></tr>\n",
       "\t<tr><th scope=row>3</th><td>WT</td><td>Ctrl</td><td>ICG001   </td></tr>\n",
       "\t<tr><th scope=row>4</th><td>WT</td><td>Ctrl</td><td>SIS3     </td></tr>\n",
       "\t<tr><th scope=row>5</th><td>WT</td><td>Ctrl</td><td>CA3      </td></tr>\n",
       "\t<tr><th scope=row>6</th><td>WT</td><td>Ctrl</td><td>Dasatinib</td></tr>\n",
       "</tbody>\n",
       "</table>\n"
      ],
      "text/latex": [
       "A data.frame: 6 × 3\n",
       "\\begin{tabular}{r|lll}\n",
       "  & genotype & ligand & inhibitor\\\\\n",
       "  & <chr> & <chr> & <chr>\\\\\n",
       "\\hline\n",
       "\t1 & WT & Ctrl & Ctrl     \\\\\n",
       "\t2 & WT & Ctrl & CHIR99021\\\\\n",
       "\t3 & WT & Ctrl & ICG001   \\\\\n",
       "\t4 & WT & Ctrl & SIS3     \\\\\n",
       "\t5 & WT & Ctrl & CA3      \\\\\n",
       "\t6 & WT & Ctrl & Dasatinib\\\\\n",
       "\\end{tabular}\n"
      ],
      "text/markdown": [
       "\n",
       "A data.frame: 6 × 3\n",
       "\n",
       "| <!--/--> | genotype &lt;chr&gt; | ligand &lt;chr&gt; | inhibitor &lt;chr&gt; |\n",
       "|---|---|---|---|\n",
       "| 1 | WT | Ctrl | Ctrl      |\n",
       "| 2 | WT | Ctrl | CHIR99021 |\n",
       "| 3 | WT | Ctrl | ICG001    |\n",
       "| 4 | WT | Ctrl | SIS3      |\n",
       "| 5 | WT | Ctrl | CA3       |\n",
       "| 6 | WT | Ctrl | Dasatinib |\n",
       "\n"
      ],
      "text/plain": [
       "  genotype ligand inhibitor\n",
       "1 WT       Ctrl   Ctrl     \n",
       "2 WT       Ctrl   CHIR99021\n",
       "3 WT       Ctrl   ICG001   \n",
       "4 WT       Ctrl   SIS3     \n",
       "5 WT       Ctrl   CA3      \n",
       "6 WT       Ctrl   Dasatinib"
      ]
     },
     "metadata": {},
     "output_type": "display_data"
    },
    {
     "data": {
      "text/html": [
       "<table class=\"dataframe\">\n",
       "<caption>A data.frame: 6 × 6</caption>\n",
       "<thead>\n",
       "\t<tr><th></th><th scope=col>genotype</th><th scope=col>ligand</th><th scope=col>inhibitor</th><th scope=col>pvr_log2_mean</th><th scope=col>pvr_log2_std</th><th scope=col>culture</th></tr>\n",
       "\t<tr><th></th><th scope=col>&lt;chr&gt;</th><th scope=col>&lt;chr&gt;</th><th scope=col>&lt;chr&gt;</th><th scope=col>&lt;dbl&gt;</th><th scope=col>&lt;dbl&gt;</th><th scope=col>&lt;chr&gt;</th></tr>\n",
       "</thead>\n",
       "<tbody>\n",
       "\t<tr><th scope=row>1</th><td>WT</td><td>Ctrl</td><td>Ctrl     </td><td> 0.298789297</td><td>0.02739259</td><td>WT_Ctrl-Ctrl     </td></tr>\n",
       "\t<tr><th scope=row>2</th><td>WT</td><td>Ctrl</td><td>CHIR99021</td><td> 0.609718424</td><td>0.08219648</td><td>WT_Ctrl-CHIR99021</td></tr>\n",
       "\t<tr><th scope=row>3</th><td>WT</td><td>Ctrl</td><td>ICG001   </td><td> 0.120872039</td><td>0.05438583</td><td>WT_Ctrl-ICG001   </td></tr>\n",
       "\t<tr><th scope=row>4</th><td>WT</td><td>Ctrl</td><td>SIS3     </td><td> 0.098571193</td><td>0.03705968</td><td>WT_Ctrl-SIS3     </td></tr>\n",
       "\t<tr><th scope=row>5</th><td>WT</td><td>Ctrl</td><td>CA3      </td><td>-0.006513697</td><td>0.15388670</td><td>WT_Ctrl-CA3      </td></tr>\n",
       "\t<tr><th scope=row>6</th><td>WT</td><td>Ctrl</td><td>Dasatinib</td><td>-0.153236205</td><td>0.05318168</td><td>WT_Ctrl-Dasatinib</td></tr>\n",
       "</tbody>\n",
       "</table>\n"
      ],
      "text/latex": [
       "A data.frame: 6 × 6\n",
       "\\begin{tabular}{r|llllll}\n",
       "  & genotype & ligand & inhibitor & pvr\\_log2\\_mean & pvr\\_log2\\_std & culture\\\\\n",
       "  & <chr> & <chr> & <chr> & <dbl> & <dbl> & <chr>\\\\\n",
       "\\hline\n",
       "\t1 & WT & Ctrl & Ctrl      &  0.298789297 & 0.02739259 & WT\\_Ctrl-Ctrl     \\\\\n",
       "\t2 & WT & Ctrl & CHIR99021 &  0.609718424 & 0.08219648 & WT\\_Ctrl-CHIR99021\\\\\n",
       "\t3 & WT & Ctrl & ICG001    &  0.120872039 & 0.05438583 & WT\\_Ctrl-ICG001   \\\\\n",
       "\t4 & WT & Ctrl & SIS3      &  0.098571193 & 0.03705968 & WT\\_Ctrl-SIS3     \\\\\n",
       "\t5 & WT & Ctrl & CA3       & -0.006513697 & 0.15388670 & WT\\_Ctrl-CA3      \\\\\n",
       "\t6 & WT & Ctrl & Dasatinib & -0.153236205 & 0.05318168 & WT\\_Ctrl-Dasatinib\\\\\n",
       "\\end{tabular}\n"
      ],
      "text/markdown": [
       "\n",
       "A data.frame: 6 × 6\n",
       "\n",
       "| <!--/--> | genotype &lt;chr&gt; | ligand &lt;chr&gt; | inhibitor &lt;chr&gt; | pvr_log2_mean &lt;dbl&gt; | pvr_log2_std &lt;dbl&gt; | culture &lt;chr&gt; |\n",
       "|---|---|---|---|---|---|---|\n",
       "| 1 | WT | Ctrl | Ctrl      |  0.298789297 | 0.02739259 | WT_Ctrl-Ctrl      |\n",
       "| 2 | WT | Ctrl | CHIR99021 |  0.609718424 | 0.08219648 | WT_Ctrl-CHIR99021 |\n",
       "| 3 | WT | Ctrl | ICG001    |  0.120872039 | 0.05438583 | WT_Ctrl-ICG001    |\n",
       "| 4 | WT | Ctrl | SIS3      |  0.098571193 | 0.03705968 | WT_Ctrl-SIS3      |\n",
       "| 5 | WT | Ctrl | CA3       | -0.006513697 | 0.15388670 | WT_Ctrl-CA3       |\n",
       "| 6 | WT | Ctrl | Dasatinib | -0.153236205 | 0.05318168 | WT_Ctrl-Dasatinib |\n",
       "\n"
      ],
      "text/plain": [
       "  genotype ligand inhibitor pvr_log2_mean pvr_log2_std culture          \n",
       "1 WT       Ctrl   Ctrl       0.298789297  0.02739259   WT_Ctrl-Ctrl     \n",
       "2 WT       Ctrl   CHIR99021  0.609718424  0.08219648   WT_Ctrl-CHIR99021\n",
       "3 WT       Ctrl   ICG001     0.120872039  0.05438583   WT_Ctrl-ICG001   \n",
       "4 WT       Ctrl   SIS3       0.098571193  0.03705968   WT_Ctrl-SIS3     \n",
       "5 WT       Ctrl   CA3       -0.006513697  0.15388670   WT_Ctrl-CA3      \n",
       "6 WT       Ctrl   Dasatinib -0.153236205  0.05318168   WT_Ctrl-Dasatinib"
      ]
     },
     "metadata": {},
     "output_type": "display_data"
    },
    {
     "data": {
      "image/png": "[encoded data removed]",
      "text/plain": [
       "plot without title"
      ]
     },
     "metadata": {
      "image/png": {
       "height": 420,
       "width": 420
      }
     },
     "output_type": "display_data"
    }
   ],
   "source": [
    "# Metadata\n",
    "df_metadata <- df %>% select(genotype, ligand, inhibitor)\n",
    "head(df_metadata)\n",
    "\n",
    "# Useful columns\n",
    "df_subset <- df %>%\n",
    "  select(genotype, ligand, inhibitor, pvr_log2_mean, pvr_log2_std, culture, genotype)\n",
    "head(df_subset)\n",
    "\n",
    "# Inhibitor\n",
    "ggplot(df_subset, aes(x = reorder(culture, pvr_log2_mean), y = pvr_log2_mean, fill = inhibitor)) +\n",
    "  geom_bar(stat = \"identity\") +\n",
    "  geom_errorbar(aes(ymin = pvr_log2_mean - pvr_log2_std, ymax = pvr_log2_mean + pvr_log2_std),\n",
    "    width = .05,\n",
    "    color = \"grey\",\n",
    "    alpha = 0.75,\n",
    "    position = position_dodge(.9)\n",
    "  ) +\n",
    "  scale_fill_manual(values = c(\n",
    "    \"Ctrl\" = \"#E6DCCB\",\n",
    "    \"CA3\" = \"#D76144\",\n",
    "    \"CHIR99021\" = \"#93ADB4\",\n",
    "    \"ICG001\" = \"#2EB0B2\",\n",
    "    \"Dasatinib\" = \"#7A80FF\",\n",
    "    \"Trametinib\" = \"#7B00FF\",\n",
    "    \"GDC0941\" = \"#CD0578\",\n",
    "    \"PF573228\" = \"#990090\",\n",
    "    \"SIS3\" = \"#AE9576\"\n",
    "  )) +\n",
    "  theme_nothing() +\n",
    "  theme(\n",
    "    axis.title.x = element_blank(),\n",
    "    axis.text.x = element_blank(),\n",
    "    axis.ticks.x = element_blank(),\n",
    "    # axis.line.x = element_blank(),\n",
    "    axis.title.y = element_blank(),\n",
    "    axis.text.y = element_blank(),\n",
    "    axis.ticks.y = element_blank(),\n",
    "    axis.line.y = element_blank(),\n",
    "    legend.position = \"none\",\n",
    "    # plot.background = element_rect(colour = \"black\", fill = NA, size = 1)\n",
    "  ) +\n",
    "  labs(\n",
    "    x = \"Culture\",\n",
    "    y = \"log2([LRIG1]/[CLU])\",\n",
    "    fill = \"Genotype\"\n",
    "  )"
   ]
  },
  {
   "attachments": {},
   "cell_type": "markdown",
   "metadata": {},
   "source": [
    "## Colour Keys for Waterfall Plot"
   ]
  },
  {
   "cell_type": "code",
   "execution_count": 7,
   "metadata": {
    "vscode": {
     "languageId": "r"
    }
   },
   "outputs": [
    {
     "data": {
      "text/html": [
       "<table class=\"dataframe\">\n",
       "<caption>A data.frame: 6 × 6</caption>\n",
       "<thead>\n",
       "\t<tr><th></th><th scope=col>genotype</th><th scope=col>ligand</th><th scope=col>inhibitor</th><th scope=col>pvr_log2_mean</th><th scope=col>pvr_log2_std</th><th scope=col>culture</th></tr>\n",
       "\t<tr><th></th><th scope=col>&lt;chr&gt;</th><th scope=col>&lt;chr&gt;</th><th scope=col>&lt;chr&gt;</th><th scope=col>&lt;dbl&gt;</th><th scope=col>&lt;dbl&gt;</th><th scope=col>&lt;chr&gt;</th></tr>\n",
       "</thead>\n",
       "<tbody>\n",
       "\t<tr><th scope=row>1</th><td>WT</td><td>Ctrl</td><td>Ctrl     </td><td> 0.298789297</td><td>0.02739259</td><td>WT_Ctrl-Ctrl     </td></tr>\n",
       "\t<tr><th scope=row>2</th><td>WT</td><td>Ctrl</td><td>CHIR99021</td><td> 0.609718424</td><td>0.08219648</td><td>WT_Ctrl-CHIR99021</td></tr>\n",
       "\t<tr><th scope=row>3</th><td>WT</td><td>Ctrl</td><td>ICG001   </td><td> 0.120872039</td><td>0.05438583</td><td>WT_Ctrl-ICG001   </td></tr>\n",
       "\t<tr><th scope=row>4</th><td>WT</td><td>Ctrl</td><td>SIS3     </td><td> 0.098571193</td><td>0.03705968</td><td>WT_Ctrl-SIS3     </td></tr>\n",
       "\t<tr><th scope=row>5</th><td>WT</td><td>Ctrl</td><td>CA3      </td><td>-0.006513697</td><td>0.15388670</td><td>WT_Ctrl-CA3      </td></tr>\n",
       "\t<tr><th scope=row>6</th><td>WT</td><td>Ctrl</td><td>Dasatinib</td><td>-0.153236205</td><td>0.05318168</td><td>WT_Ctrl-Dasatinib</td></tr>\n",
       "</tbody>\n",
       "</table>\n"
      ],
      "text/latex": [
       "A data.frame: 6 × 6\n",
       "\\begin{tabular}{r|llllll}\n",
       "  & genotype & ligand & inhibitor & pvr\\_log2\\_mean & pvr\\_log2\\_std & culture\\\\\n",
       "  & <chr> & <chr> & <chr> & <dbl> & <dbl> & <chr>\\\\\n",
       "\\hline\n",
       "\t1 & WT & Ctrl & Ctrl      &  0.298789297 & 0.02739259 & WT\\_Ctrl-Ctrl     \\\\\n",
       "\t2 & WT & Ctrl & CHIR99021 &  0.609718424 & 0.08219648 & WT\\_Ctrl-CHIR99021\\\\\n",
       "\t3 & WT & Ctrl & ICG001    &  0.120872039 & 0.05438583 & WT\\_Ctrl-ICG001   \\\\\n",
       "\t4 & WT & Ctrl & SIS3      &  0.098571193 & 0.03705968 & WT\\_Ctrl-SIS3     \\\\\n",
       "\t5 & WT & Ctrl & CA3       & -0.006513697 & 0.15388670 & WT\\_Ctrl-CA3      \\\\\n",
       "\t6 & WT & Ctrl & Dasatinib & -0.153236205 & 0.05318168 & WT\\_Ctrl-Dasatinib\\\\\n",
       "\\end{tabular}\n"
      ],
      "text/markdown": [
       "\n",
       "A data.frame: 6 × 6\n",
       "\n",
       "| <!--/--> | genotype &lt;chr&gt; | ligand &lt;chr&gt; | inhibitor &lt;chr&gt; | pvr_log2_mean &lt;dbl&gt; | pvr_log2_std &lt;dbl&gt; | culture &lt;chr&gt; |\n",
       "|---|---|---|---|---|---|---|\n",
       "| 1 | WT | Ctrl | Ctrl      |  0.298789297 | 0.02739259 | WT_Ctrl-Ctrl      |\n",
       "| 2 | WT | Ctrl | CHIR99021 |  0.609718424 | 0.08219648 | WT_Ctrl-CHIR99021 |\n",
       "| 3 | WT | Ctrl | ICG001    |  0.120872039 | 0.05438583 | WT_Ctrl-ICG001    |\n",
       "| 4 | WT | Ctrl | SIS3      |  0.098571193 | 0.03705968 | WT_Ctrl-SIS3      |\n",
       "| 5 | WT | Ctrl | CA3       | -0.006513697 | 0.15388670 | WT_Ctrl-CA3       |\n",
       "| 6 | WT | Ctrl | Dasatinib | -0.153236205 | 0.05318168 | WT_Ctrl-Dasatinib |\n",
       "\n"
      ],
      "text/plain": [
       "  genotype ligand inhibitor pvr_log2_mean pvr_log2_std culture          \n",
       "1 WT       Ctrl   Ctrl       0.298789297  0.02739259   WT_Ctrl-Ctrl     \n",
       "2 WT       Ctrl   CHIR99021  0.609718424  0.08219648   WT_Ctrl-CHIR99021\n",
       "3 WT       Ctrl   ICG001     0.120872039  0.05438583   WT_Ctrl-ICG001   \n",
       "4 WT       Ctrl   SIS3       0.098571193  0.03705968   WT_Ctrl-SIS3     \n",
       "5 WT       Ctrl   CA3       -0.006513697  0.15388670   WT_Ctrl-CA3      \n",
       "6 WT       Ctrl   Dasatinib -0.153236205  0.05318168   WT_Ctrl-Dasatinib"
      ]
     },
     "metadata": {},
     "output_type": "display_data"
    },
    {
     "data": {
      "text/html": [
       "<style>\n",
       ".dl-inline {width: auto; margin:0; padding: 0}\n",
       ".dl-inline>dt, .dl-inline>dd {float: none; width: auto; display: inline-block}\n",
       ".dl-inline>dt::after {content: \":\\0020\"; padding-right: .5ex}\n",
       ".dl-inline>dt:not(:first-of-type) {padding-left: .5ex}\n",
       "</style><dl class=dl-inline><dt>1%</dt><dd>-0.942692047501439</dd><dt>99%</dt><dd>2.17561123985619</dd></dl>\n"
      ],
      "text/latex": [
       "\\begin{description*}\n",
       "\\item[1\\textbackslash{}\\%] -0.942692047501439\n",
       "\\item[99\\textbackslash{}\\%] 2.17561123985619\n",
       "\\end{description*}\n"
      ],
      "text/markdown": [
       "1%\n",
       ":   -0.94269204750143999%\n",
       ":   2.17561123985619\n",
       "\n"
      ],
      "text/plain": [
       "       1%       99% \n",
       "-0.942692  2.175611 "
      ]
     },
     "metadata": {},
     "output_type": "display_data"
    },
    {
     "data": {
      "image/png": "[encoded data removed]",
      "text/plain": [
       "plot without title"
      ]
     },
     "metadata": {
      "image/png": {
       "height": 420,
       "width": 420
      }
     },
     "output_type": "display_data"
    }
   ],
   "source": [
    "# Ligand\n",
    "\n",
    "head(df_subset)\n",
    "df_subset <- df_subset[order(df_subset$pvr_log2_mean), ]\n",
    "df_subset_data <- df_subset %>% select(pvr_log2_mean)\n",
    "mat <- df_subset_data %>%\n",
    "  as.matrix() %>%\n",
    "  t()\n",
    "quantile(mat, c(0.01, 0.99)) # Determine the range of the colour scale\n",
    "colour <- circlize::colorRamp2(c(-1, 0, 2), c(\"#D53E4F\", \"white\", \"#3288BD\"))\n",
    "\n",
    "ha <- HeatmapAnnotation(\n",
    "  ligand = factor(df_subset$ligand, levels = c(\n",
    "    \"Ctrl\",\n",
    "    \"EREG\",\n",
    "    \"WNT3A\",\n",
    "    \"TGFb1\"\n",
    "  )),\n",
    "  col = list(\n",
    "    ligand = c(\n",
    "      \"Ctrl\" = \"#E6DCCB\",\n",
    "      \"EREG\" = \"#FEAA11\",\n",
    "      \"WNT3A\" = \"#6E925E\",\n",
    "      \"TGFb1\" = \"#932192\"\n",
    "    )\n",
    "  ),\n",
    "  show_legend = c(FALSE, FALSE, FALSE),\n",
    "  show_annotation_name = c(FALSE, FALSE, FALSE),\n",
    "  simple_anno_size = unit(0.4, \"cm\")\n",
    ")\n",
    "Heatmap(\n",
    "  matrix(nrow = 0, ncol = ncol(mat)),\n",
    "  col = colour,\n",
    "  top_annotation = ha,\n",
    ")"
   ]
  },
  {
   "cell_type": "code",
   "execution_count": 8,
   "metadata": {
    "vscode": {
     "languageId": "r"
    }
   },
   "outputs": [
    {
     "data": {
      "text/html": [
       "<table class=\"dataframe\">\n",
       "<caption>A data.frame: 6 × 6</caption>\n",
       "<thead>\n",
       "\t<tr><th></th><th scope=col>genotype</th><th scope=col>ligand</th><th scope=col>inhibitor</th><th scope=col>pvr_log2_mean</th><th scope=col>pvr_log2_std</th><th scope=col>culture</th></tr>\n",
       "\t<tr><th></th><th scope=col>&lt;chr&gt;</th><th scope=col>&lt;chr&gt;</th><th scope=col>&lt;chr&gt;</th><th scope=col>&lt;dbl&gt;</th><th scope=col>&lt;dbl&gt;</th><th scope=col>&lt;chr&gt;</th></tr>\n",
       "</thead>\n",
       "<tbody>\n",
       "\t<tr><th scope=row>29</th><td>WT</td><td>TGFb1</td><td>CHIR99021</td><td>-0.9851199</td><td>0.04066846</td><td>WT_TGFb1-CHIR99021</td></tr>\n",
       "\t<tr><th scope=row>36</th><td>WT</td><td>TGFb1</td><td>PF573228 </td><td>-0.9463567</td><td>0.08866838</td><td>WT_TGFb1-PF573228 </td></tr>\n",
       "\t<tr><th scope=row>30</th><td>WT</td><td>TGFb1</td><td>ICG001   </td><td>-0.9378342</td><td>0.00487320</td><td>WT_TGFb1-ICG001   </td></tr>\n",
       "\t<tr><th scope=row>28</th><td>WT</td><td>TGFb1</td><td>Ctrl     </td><td>-0.9197179</td><td>0.03107449</td><td>WT_TGFb1-Ctrl     </td></tr>\n",
       "\t<tr><th scope=row>31</th><td>WT</td><td>TGFb1</td><td>SIS3     </td><td>-0.8813542</td><td>0.02965469</td><td>WT_TGFb1-SIS3     </td></tr>\n",
       "\t<tr><th scope=row>34</th><td>WT</td><td>TGFb1</td><td>GDC0941  </td><td>-0.8574975</td><td>0.02138285</td><td>WT_TGFb1-GDC0941  </td></tr>\n",
       "</tbody>\n",
       "</table>\n"
      ],
      "text/latex": [
       "A data.frame: 6 × 6\n",
       "\\begin{tabular}{r|llllll}\n",
       "  & genotype & ligand & inhibitor & pvr\\_log2\\_mean & pvr\\_log2\\_std & culture\\\\\n",
       "  & <chr> & <chr> & <chr> & <dbl> & <dbl> & <chr>\\\\\n",
       "\\hline\n",
       "\t29 & WT & TGFb1 & CHIR99021 & -0.9851199 & 0.04066846 & WT\\_TGFb1-CHIR99021\\\\\n",
       "\t36 & WT & TGFb1 & PF573228  & -0.9463567 & 0.08866838 & WT\\_TGFb1-PF573228 \\\\\n",
       "\t30 & WT & TGFb1 & ICG001    & -0.9378342 & 0.00487320 & WT\\_TGFb1-ICG001   \\\\\n",
       "\t28 & WT & TGFb1 & Ctrl      & -0.9197179 & 0.03107449 & WT\\_TGFb1-Ctrl     \\\\\n",
       "\t31 & WT & TGFb1 & SIS3      & -0.8813542 & 0.02965469 & WT\\_TGFb1-SIS3     \\\\\n",
       "\t34 & WT & TGFb1 & GDC0941   & -0.8574975 & 0.02138285 & WT\\_TGFb1-GDC0941  \\\\\n",
       "\\end{tabular}\n"
      ],
      "text/markdown": [
       "\n",
       "A data.frame: 6 × 6\n",
       "\n",
       "| <!--/--> | genotype &lt;chr&gt; | ligand &lt;chr&gt; | inhibitor &lt;chr&gt; | pvr_log2_mean &lt;dbl&gt; | pvr_log2_std &lt;dbl&gt; | culture &lt;chr&gt; |\n",
       "|---|---|---|---|---|---|---|\n",
       "| 29 | WT | TGFb1 | CHIR99021 | -0.9851199 | 0.04066846 | WT_TGFb1-CHIR99021 |\n",
       "| 36 | WT | TGFb1 | PF573228  | -0.9463567 | 0.08866838 | WT_TGFb1-PF573228  |\n",
       "| 30 | WT | TGFb1 | ICG001    | -0.9378342 | 0.00487320 | WT_TGFb1-ICG001    |\n",
       "| 28 | WT | TGFb1 | Ctrl      | -0.9197179 | 0.03107449 | WT_TGFb1-Ctrl      |\n",
       "| 31 | WT | TGFb1 | SIS3      | -0.8813542 | 0.02965469 | WT_TGFb1-SIS3      |\n",
       "| 34 | WT | TGFb1 | GDC0941   | -0.8574975 | 0.02138285 | WT_TGFb1-GDC0941   |\n",
       "\n"
      ],
      "text/plain": [
       "   genotype ligand inhibitor pvr_log2_mean pvr_log2_std culture           \n",
       "29 WT       TGFb1  CHIR99021 -0.9851199    0.04066846   WT_TGFb1-CHIR99021\n",
       "36 WT       TGFb1  PF573228  -0.9463567    0.08866838   WT_TGFb1-PF573228 \n",
       "30 WT       TGFb1  ICG001    -0.9378342    0.00487320   WT_TGFb1-ICG001   \n",
       "28 WT       TGFb1  Ctrl      -0.9197179    0.03107449   WT_TGFb1-Ctrl     \n",
       "31 WT       TGFb1  SIS3      -0.8813542    0.02965469   WT_TGFb1-SIS3     \n",
       "34 WT       TGFb1  GDC0941   -0.8574975    0.02138285   WT_TGFb1-GDC0941  "
      ]
     },
     "metadata": {},
     "output_type": "display_data"
    },
    {
     "data": {
      "text/html": [
       "<style>\n",
       ".dl-inline {width: auto; margin:0; padding: 0}\n",
       ".dl-inline>dt, .dl-inline>dd {float: none; width: auto; display: inline-block}\n",
       ".dl-inline>dt::after {content: \":\\0020\"; padding-right: .5ex}\n",
       ".dl-inline>dt:not(:first-of-type) {padding-left: .5ex}\n",
       "</style><dl class=dl-inline><dt>1%</dt><dd>-0.942692047501439</dd><dt>99%</dt><dd>2.17561123985619</dd></dl>\n"
      ],
      "text/latex": [
       "\\begin{description*}\n",
       "\\item[1\\textbackslash{}\\%] -0.942692047501439\n",
       "\\item[99\\textbackslash{}\\%] 2.17561123985619\n",
       "\\end{description*}\n"
      ],
      "text/markdown": [
       "1%\n",
       ":   -0.94269204750143999%\n",
       ":   2.17561123985619\n",
       "\n"
      ],
      "text/plain": [
       "       1%       99% \n",
       "-0.942692  2.175611 "
      ]
     },
     "metadata": {},
     "output_type": "display_data"
    },
    {
     "data": {
      "image/png": "[encoded data removed]",
      "text/plain": [
       "plot without title"
      ]
     },
     "metadata": {
      "image/png": {
       "height": 420,
       "width": 420
      }
     },
     "output_type": "display_data"
    }
   ],
   "source": [
    "# Genotype\n",
    "head(df_subset)\n",
    "df_subset <- df_subset[order(df_subset$pvr_log2_mean), ]\n",
    "df_subset_data <- df_subset %>% select(pvr_log2_mean)\n",
    "mat <- df_subset_data %>%\n",
    "  as.matrix() %>%\n",
    "  t()\n",
    "quantile(mat, c(0.01, 0.99)) # Determine the range of the colour scale\n",
    "colour <- circlize::colorRamp2(c(-1, 0, 2), c(\"#D53E4F\", \"white\", \"#3288BD\"))\n",
    "\n",
    "ha <- HeatmapAnnotation(\n",
    "  genotype = factor(df_subset$genotype, levels = c(\"WT\", \"A\", \"K\", \"AK\")),\n",
    "  col = list(\n",
    "    genotype = c(\n",
    "      \"WT\" = \"#80A171\",\n",
    "      \"A\" = \"#54653D\",\n",
    "      \"K\" = \"#9B7F3C\",\n",
    "      \"AK\" = \"#6C8DC6\"\n",
    "    )\n",
    "  ),\n",
    "  show_legend = c(FALSE, FALSE, FALSE),\n",
    "  show_annotation_name = c(FALSE, FALSE, FALSE),\n",
    "  simple_anno_size = unit(0.4, \"cm\")\n",
    ")\n",
    "Heatmap(\n",
    "  matrix(nrow = 0, ncol = ncol(mat)),\n",
    "  col = colour,\n",
    "  top_annotation = ha,\n",
    ")"
   ]
  }
 ],
 "metadata": {
  "kernelspec": {
   "display_name": "R",
   "language": "R",
   "name": "ir"
  },
  "language_info": {
   "codemirror_mode": "r",
   "file_extension": ".r",
   "mimetype": "text/x-r-source",
   "name": "R",
   "pygments_lexer": "r",
   "version": "4.2.2"
  },
  "orig_nbformat": 4,
  "vscode": {
   "interpreter": {
    "hash": "c6e4e9f98eb68ad3b7c296f83d20e6de614cb42e90992a65aa266555a3137d0d"
   }
  }
 },
 "nbformat": 4,
 "nbformat_minor": 2
}
